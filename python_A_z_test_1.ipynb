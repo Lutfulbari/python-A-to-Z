{
  "nbformat": 4,
  "nbformat_minor": 0,
  "metadata": {
    "colab": {
      "name": "python-A-z-test-1.ipynb",
      "provenance": [],
      "collapsed_sections": [],
      "authorship_tag": "ABX9TyMBY27sCLx67EJhSJRPh4Us",
      "include_colab_link": true
    },
    "kernelspec": {
      "name": "python3",
      "display_name": "Python 3"
    }
  },
  "cells": [
    {
      "cell_type": "markdown",
      "metadata": {
        "id": "view-in-github",
        "colab_type": "text"
      },
      "source": [
        "<a href=\"https://colab.research.google.com/github/Lutfulbari/python-A-to-Z/blob/gh-pages/python_A_z_test_1.ipynb\" target=\"_parent\"><img src=\"https://colab.research.google.com/assets/colab-badge.svg\" alt=\"Open In Colab\"/></a>"
      ]
    },
    {
      "cell_type": "code",
      "metadata": {
        "id": "rxllu1MjWwFo"
      },
      "source": [
        "print('hello\\nworld')"
      ],
      "execution_count": null,
      "outputs": []
    },
    {
      "cell_type": "code",
      "metadata": {
        "id": "GF_pimhLUBl9"
      },
      "source": [
        "print('hello world')"
      ],
      "execution_count": null,
      "outputs": []
    },
    {
      "cell_type": "code",
      "metadata": {
        "id": "Fz4eixovUHbZ"
      },
      "source": [
        "print('hello.world')"
      ],
      "execution_count": null,
      "outputs": []
    },
    {
      "cell_type": "code",
      "metadata": {
        "id": "lQdpb74pUSph"
      },
      "source": [
        "print('hello,world')"
      ],
      "execution_count": null,
      "outputs": []
    },
    {
      "cell_type": "markdown",
      "metadata": {
        "id": "LPR63m3-UZp6"
      },
      "source": [
        "** Math** summation````"
      ]
    },
    {
      "cell_type": "code",
      "metadata": {
        "id": "sw1OkNdvUqtY"
      },
      "source": [
        "a = 10\n",
        "b = 5\n",
        "c = a + b\n",
        "print(\"summation: \\n\",a,\"+\",b,\"=\",c,)"
      ],
      "execution_count": null,
      "outputs": []
    },
    {
      "cell_type": "markdown",
      "metadata": {
        "id": "yI6P-kY1WaKY"
      },
      "source": [
        "**subtract**"
      ]
    },
    {
      "cell_type": "code",
      "metadata": {
        "id": "sc4Eyg-UV8an"
      },
      "source": [
        "a = 10\n",
        "b = 5\n",
        "d = a - b\n",
        "print(\"subtract: \\n\",a,\"-\",b,\"=\",d,)"
      ],
      "execution_count": null,
      "outputs": []
    },
    {
      "cell_type": "markdown",
      "metadata": {
        "id": "ocRmW28PW8SJ"
      },
      "source": [
        "*multiple*\n"
      ]
    },
    {
      "cell_type": "code",
      "metadata": {
        "id": "ZOKaik0RWjxU"
      },
      "source": [
        "a = 10\n",
        "b = 5\n",
        "e = a * b\n",
        "print(\"multiple: \\n\",a,\"*\",b,\"=\",e,)"
      ],
      "execution_count": null,
      "outputs": []
    },
    {
      "cell_type": "markdown",
      "metadata": {
        "id": "1a2xvEd3XI27"
      },
      "source": [
        "Divided\n"
      ]
    },
    {
      "cell_type": "code",
      "metadata": {
        "id": "8aAYKO-EXMV7"
      },
      "source": [
        "a = 10\n",
        "b = 5\n",
        "d = a / b\n",
        "print(\"subtract: \\n\",a,\"/\",b,\"=\",d,)"
      ],
      "execution_count": null,
      "outputs": []
    },
    {
      "cell_type": "code",
      "metadata": {
        "id": "T7yLaG7BXvMr"
      },
      "source": [
        "'''a = 10\n",
        "b = 5\n",
        "d = a / b\n",
        "print(\"subtract: \\n\",a,\"/\",b,\"=\",d,)'''"
      ],
      "execution_count": null,
      "outputs": []
    },
    {
      "cell_type": "code",
      "metadata": {
        "id": "15eHo3YbX2vy"
      },
      "source": [
        "#a = 5\n",
        "#b = 5\n",
        "#d = a / b\n",
        "# print(\"subtract: \\n\",a,\"/\",b,\"=\",d,)"
      ],
      "execution_count": null,
      "outputs": []
    },
    {
      "cell_type": "markdown",
      "metadata": {
        "id": "6DZBFTmxYZgR"
      },
      "source": [
        "**string**"
      ]
    },
    {
      "cell_type": "code",
      "metadata": {
        "id": "SmZhYcwHYdRA"
      },
      "source": [
        "a = \"lutful\"\n",
        "b = \"bari\"\n",
        "c = a + b\n",
        "print(a+b)"
      ],
      "execution_count": null,
      "outputs": []
    },
    {
      "cell_type": "code",
      "metadata": {
        "id": "L6Bj47_nY1m5"
      },
      "source": [
        "a = \"lutful\"\n",
        "b = \"bari\"\n",
        "c = a + b\n",
        "print(a,b)"
      ],
      "execution_count": null,
      "outputs": []
    },
    {
      "cell_type": "code",
      "metadata": {
        "id": "nvyqyClpY-Qw"
      },
      "source": [
        "a = \"lutful\"\n",
        "b = \"bari\"\n",
        "c = a + b\n",
        "print(c,2222)"
      ],
      "execution_count": null,
      "outputs": []
    },
    {
      "cell_type": "markdown",
      "metadata": {
        "id": "wd8GrgMpZfJf"
      },
      "source": [
        "capitalize"
      ]
    },
    {
      "cell_type": "code",
      "metadata": {
        "id": "sKzfclIPZQV_"
      },
      "source": [
        "a = \"python developer\"\n",
        "cap = a.capitalize()\n",
        "print(cap)"
      ],
      "execution_count": null,
      "outputs": []
    },
    {
      "cell_type": "markdown",
      "metadata": {
        "id": "E2eWdlPKaAzt"
      },
      "source": [
        "**uppercase**"
      ]
    },
    {
      "cell_type": "code",
      "metadata": {
        "id": "sK-J4ArlaE8G"
      },
      "source": [
        "a = \"python developer\"\n",
        "up = a.upper()\n",
        "print(up)"
      ],
      "execution_count": null,
      "outputs": []
    },
    {
      "cell_type": "markdown",
      "metadata": {
        "id": "xPDtlEXgajMl"
      },
      "source": [
        "**Lowercase**"
      ]
    },
    {
      "cell_type": "code",
      "metadata": {
        "id": "Kw-8hB2hapeU"
      },
      "source": [
        "a = \"PYTHON DEVELOPER\"\n",
        "low = a.lower()\n",
        "print(low)"
      ],
      "execution_count": null,
      "outputs": []
    },
    {
      "cell_type": "markdown",
      "metadata": {
        "id": "fSz-bfnjbVKA"
      },
      "source": [
        "*title*"
      ]
    },
    {
      "cell_type": "code",
      "metadata": {
        "id": "Ng8G8bKIbcWD"
      },
      "source": [
        "a = \"PYTHON DEVELOPER\"\n",
        "tit = a.title()\n",
        "print(tit)"
      ],
      "execution_count": null,
      "outputs": []
    },
    {
      "cell_type": "markdown",
      "metadata": {
        "id": "Lj1nhYHzb88S"
      },
      "source": [
        "Boolean"
      ]
    },
    {
      "cell_type": "code",
      "metadata": {
        "id": "PmqFczZbcEHi"
      },
      "source": [
        "a = \"PYTHON DEVELOPER\"\n",
        "print(a.islower())"
      ],
      "execution_count": null,
      "outputs": []
    },
    {
      "cell_type": "code",
      "metadata": {
        "id": "wjOUum51cbDL"
      },
      "source": [
        "a = \"python developer\"\n",
        "print(a.islower())"
      ],
      "execution_count": null,
      "outputs": []
    },
    {
      "cell_type": "code",
      "metadata": {
        "id": "SdFPugK5c1_g"
      },
      "source": [
        "a = \"python developer\"\n",
        "print(a,\"is lower ?\",a.islower())\n",
        "print(a,\"is lower --> ?\",a.isupper())\n",
        "up = a.upper()\n",
        "print(up,\"--> Is Upper ?\",up.isupper())\n",
        "print(a,\"--> Is alpha ?\",up.isalpha())\n",
        "b=\"itscallalpha\"\n",
        "c=\"itscal50lalpha\"\n",
        "d=\"01552464940\"\n",
        "e=\"lutfulbarimusa\"\n",
        "print(b,\"--> Is alpha ?\",b.isalpha())\n",
        "print(c,\"--> Is alnum ?\",c.isalnum())\n",
        "print(d,\"--> Is aldigit ?\",d.isdigit())\n",
        "print(e,\"--> Is aldigit ?\",e.isdigit())\n"
      ],
      "execution_count": null,
      "outputs": []
    },
    {
      "cell_type": "markdown",
      "metadata": {
        "id": "HIeunYzLyGFS"
      },
      "source": [
        "**split**"
      ]
    },
    {
      "cell_type": "code",
      "metadata": {
        "id": "p0nNYw8P03WP"
      },
      "source": [
        "a ='musa want to be A python developer'\n",
        "sp = a.split('a')\n",
        "print(sp)\n",
        "b = 'musa want to be A python developer'\n",
        "sp = b.split('n')\n",
        "print(sp)\n",
        "a ='musa want to be A python developer'\n",
        "sp = a.split('m')\n",
        "print(sp)\n"
      ],
      "execution_count": null,
      "outputs": []
    },
    {
      "cell_type": "code",
      "metadata": {
        "id": "VrvDpMhD4Q8O"
      },
      "source": [
        "a = \"Musa want to be a python ios developer.\"\n",
        "find = a.find(\"b\")\n",
        "print(find)\n",
        "a = \"Musa want to be a python ios developer.\"\n",
        "find = a.find(\"sa\")\n",
        "print(find)\n",
        "a = \"Musa want to be a python ios developer 2020.\"\n",
        "find = a.find(\"20\")\n",
        "print(find)\n",
        "# join()\n",
        "a = \"Musa  want to be a python ios developer.\"\n",
        "find = a.find(\"b\")\n",
        "print(find)"
      ],
      "execution_count": null,
      "outputs": []
    },
    {
      "cell_type": "markdown",
      "metadata": {
        "id": "aWcjQvBwGNtN"
      },
      "source": [
        "**Join**"
      ]
    },
    {
      "cell_type": "code",
      "metadata": {
        "id": "Sf9MrM_-GQUE"
      },
      "source": [
        "a = [\"Musa\",\"want\",\"to\",\"be\",\"a\",\"python\",\"ios\",\"developer.\"]\n",
        "b = '<>'\n",
        "print(b.join(a))"
      ],
      "execution_count": null,
      "outputs": []
    },
    {
      "cell_type": "code",
      "metadata": {
        "id": "VVNWCtv6J5x3"
      },
      "source": [
        "a = [\"Musa\",\"want\",\"to\",\"be\",\"a\",\"python\",\"ios\",\"developer.\"]\n",
        "b = '()\\n'\n",
        "print(b.join(a))"
      ],
      "execution_count": null,
      "outputs": []
    },
    {
      "cell_type": "markdown",
      "metadata": {
        "id": "XYg3ba2VKMb7"
      },
      "source": [
        "**string .format**"
      ]
    },
    {
      "cell_type": "code",
      "metadata": {
        "id": "BsTONzDOKbGj"
      },
      "source": [
        "print('{1} {2} {0}'.format('one','two','three'))\n",
        "print('{0} {1} {2} {0}'.format('one','two','three'))\n",
        "\n",
        "print('{:.>20} {} {} '.format('one','two','three'))\n",
        "print('{:.<20} {} {} '.format('one','two','three'))\n",
        "print('{:.^20} {:.^20} {:.^20} '.format('one','two','three'))"
      ],
      "execution_count": null,
      "outputs": []
    },
    {
      "cell_type": "markdown",
      "metadata": {
        "id": "khIzahIHeIpD"
      },
      "source": [
        "**input**"
      ]
    },
    {
      "cell_type": "code",
      "metadata": {
        "id": "HXRiEmWKeMeU"
      },
      "source": [
        "a = input()\n",
        "b = input()\n",
        "print(a+b) "
      ],
      "execution_count": null,
      "outputs": []
    },
    {
      "cell_type": "code",
      "metadata": {
        "id": "QnqzX7Yke3MD"
      },
      "source": [
        "a =int (input())\n",
        "b =int (input())\n",
        "print(a+b) "
      ],
      "execution_count": null,
      "outputs": []
    },
    {
      "cell_type": "code",
      "metadata": {
        "id": "rNaQ56JTfQ8R"
      },
      "source": [
        "a =float (input())\n",
        "b =float (input())\n",
        "print(a+b) "
      ],
      "execution_count": null,
      "outputs": []
    },
    {
      "cell_type": "code",
      "metadata": {
        "id": "a9ebDBzCfhYX"
      },
      "source": [
        "a =(input())\n",
        "b =(input())\n",
        "print(a+b)\n"
      ],
      "execution_count": null,
      "outputs": []
    },
    {
      "cell_type": "markdown",
      "metadata": {
        "id": "M2MVSfu3MZYH"
      },
      "source": [
        "**if&eles**if=eles condition   statemenr\n",
        "\n"
      ]
    },
    {
      "cell_type": "code",
      "metadata": {
        "id": "ob428EfwMjzW"
      },
      "source": [
        "a = 5\n",
        "b = 8\n",
        "if a < b:\n",
        "    print(\"a is small\")\n",
        "else:\n",
        "    print('b is small')\n",
        "    "
      ],
      "execution_count": null,
      "outputs": []
    },
    {
      "cell_type": "code",
      "metadata": {
        "id": "y3tbtJIcBvK2"
      },
      "source": [
        "a = 44\n",
        "b = 8\n",
        "if a < b:\n",
        "    print(\"a is small\")\n",
        "else:\n",
        "\n",
        "    print('b is small')\n"
      ],
      "execution_count": null,
      "outputs": []
    },
    {
      "cell_type": "code",
      "metadata": {
        "id": "UFmoQkAtCGwq"
      },
      "source": [
        "c = 44\n",
        "d = 12\n",
        "if c < d:\n",
        "\n",
        "    print(\"c is small\")\n",
        "else:\n",
        "\n",
        "    print('d is small')    \n",
        "    "
      ],
      "execution_count": null,
      "outputs": []
    },
    {
      "cell_type": "code",
      "metadata": {
        "id": "PPULQcB6SC1a"
      },
      "source": [
        "a =int (input())  \n",
        "b =int (input())\n",
        "a = 333\n",
        "b = 314\n",
        "if a > b:\n",
        "    print('a is small')\n",
        "else:\n",
        "    print('b is smal')"
      ],
      "execution_count": null,
      "outputs": []
    },
    {
      "cell_type": "code",
      "metadata": {
        "id": "KGyYoWbbEXQx"
      },
      "source": [
        "a = 5\n",
        "b = 8\n",
        "\n",
        "if a < b:\n",
        "    print(\"a is small\")\n",
        "else:\n",
        "    print(\"b is small\")    "
      ],
      "execution_count": null,
      "outputs": []
    },
    {
      "cell_type": "code",
      "metadata": {
        "id": "mvAIba3SE2fe"
      },
      "source": [
        "a = 53\n",
        "b = 8\n",
        "\n",
        "if a < b:\n",
        "    print(\"a is small\")\n",
        "else:\n",
        "    print(\"b is small\")             "
      ],
      "execution_count": null,
      "outputs": []
    },
    {
      "cell_type": "code",
      "metadata": {
        "id": "Cfp3gehDE-NV"
      },
      "source": [
        "print(\"enter first is small:\")\n",
        "a = int (input())\n",
        "\n",
        "print(\"enter scound is small:\")\n",
        "b = int (input())\n",
        "\n",
        "\n",
        "if a < b:\n",
        "\n",
        "    print(\"first number is small\")\n",
        "else:\n",
        "\n",
        "    print(\"scound number is small\")   "
      ],
      "execution_count": null,
      "outputs": []
    },
    {
      "cell_type": "markdown",
      "metadata": {
        "id": "WqB9JNf3H5Oj"
      },
      "source": [
        "**if & else**"
      ]
    },
    {
      "cell_type": "code",
      "metadata": {
        "id": "8DvmOeR_H-OI"
      },
      "source": [
        "a = 233\n",
        "b = 273\n",
        "c = 443\n",
        "if a > b:\n",
        "    if a > c:\n",
        "        print(\"a is gretest\")\n",
        "    else:\n",
        "        print(\"c is gretest\")\n",
        "elif b > c:\n",
        "    if b > a:\n",
        "        print(\"b is gretest\")\n",
        "    else:        \n",
        "        print(\"a is gretest\")\n",
        "\n",
        "else:\n",
        "    print(\"c is gretest\")       \n"
      ],
      "execution_count": null,
      "outputs": []
    },
    {
      "cell_type": "code",
      "metadata": {
        "id": "4flrEkn8Qnyy"
      },
      "source": [
        "a = 2322\n",
        "b = 223\n",
        "c = 43\n",
        "if a > b:\n",
        "    if a > c:\n",
        "        print(\"a is gretest\")\n",
        "    else:\n",
        "        print(\"c is gretest\")\n",
        "elif b > c:\n",
        "    if b > a:\n",
        "        print(\"b is gretest\")\n",
        "    else:        \n",
        "        print(\"a is gretest\")\n",
        "\n",
        "else:\n",
        "    print(\"c is gretest\")       \n"
      ],
      "execution_count": null,
      "outputs": []
    },
    {
      "cell_type": "code",
      "metadata": {
        "id": "ypJmUdP83oe4"
      },
      "source": [
        "a = 22\n",
        "b = 223\n",
        "c = 43\n",
        "if a < b:\n",
        "    if a < c:\n",
        "        \n",
        "        print(\"a is gretest\")\n",
        "    else:\n",
        "        print(\"c is gretest\")\n",
        "elif b > c:\n",
        "\n",
        "    if b > a:\n",
        "        print(\"b is gretest\")           \n",
        "    else:\n",
        "        print(\"a is gretest\")\n",
        "else:\n",
        "    print(\"c is gretest\")"
      ],
      "execution_count": null,
      "outputs": []
    },
    {
      "cell_type": "code",
      "metadata": {
        "id": "2WoEpcxJ7dZz"
      },
      "source": [
        "a = 53\n",
        "b = 8\n",
        "\n",
        "if a > b:\n",
        "    print(\"a is small\")"
      ],
      "execution_count": null,
      "outputs": []
    },
    {
      "cell_type": "code",
      "metadata": {
        "id": "nJvI9nlX7trm"
      },
      "source": [
        "a = 50\n",
        "b = 30\n",
        "c = 60\n",
        "if a > b:\n",
        "    if a > c:\n",
        "        print(\"a is gratest\")\n",
        "    else:\n",
        "        print(\"c is gretest\")\n",
        "elif b > c:\n",
        "    if b > a:\n",
        "        print(\"b is gratest\")\n",
        "    else:\n",
        "        print(\"a is gratest\")\n",
        "else:\n",
        "    print(\"c is gratest\")"
      ],
      "execution_count": null,
      "outputs": []
    },
    {
      "cell_type": "code",
      "metadata": {
        "id": "WVLUWYVwyHGp"
      },
      "source": [
        "a = 10\n",
        "b = 20\n",
        "c = 30\n",
        "if a > b:\n",
        "    if a > c:\n",
        "        print(\"a is gratest\")\n",
        "    else:\n",
        "        print(\"c is gratest\")\n",
        "elif b > c:\n",
        "    if b > a:\n",
        "        print(\"b is gratest\")\n",
        "    else:\n",
        "        print(\"a is gratest\")\n",
        "else:\n",
        "    print(\"b is gratest\")            "
      ],
      "execution_count": null,
      "outputs": []
    },
    {
      "cell_type": "markdown",
      "metadata": {
        "id": "lsXkpZ6GjQJm"
      },
      "source": [
        "**if & else  GRADE & GRADE POINT**"
      ]
    },
    {
      "cell_type": "code",
      "metadata": {
        "id": "R8B39Pm6jTV9"
      },
      "source": [
        "mark = int(input())\n",
        "if mark > 79:       # mark = 79 --100\n",
        "    if mark < 100:\n",
        "        print(\"A+\")\n",
        "elif mark > 75:     # mark = 75 --79    \n",
        "    if mark < 79:\n",
        "        print(\"A\")\n",
        "elif mark > 70:     # mark = 7 --74    \n",
        "    if mark < 74:\n",
        "        print(\"A-\") \n",
        "elif mark > 65:     # mark = 65 --69    \n",
        "    if mark < 69:\n",
        "        print(\"B+\")\n",
        "elif mark > 64:     # mark = 64 --60    \n",
        "    if mark < 60:\n",
        "        print(\"b-\")\n",
        "elif mark > 50:     # mark = 50 --59    \n",
        "    if mark < 59:\n",
        "        print(\"C+\")\n",
        "elif mark > 50:     # mark = 50 --54    \n",
        "    if mark < 54:\n",
        "        print(\"C\")\n",
        "elif mark > 40:     # mark = 40 --44    \n",
        "    if mark < 44:\n",
        "        print(\"D\")\n",
        "else:               # MARK = 00 ---> 39\n",
        "    print(\"FAIL\")"
      ],
      "execution_count": null,
      "outputs": []
    },
    {
      "cell_type": "code",
      "metadata": {
        "id": "uy4tQ9vLyWMM"
      },
      "source": [
        " print(\"Enter your subject mark:\")\n",
        "mark = int (input())\n",
        "if mark >= 80:       # mark = 79 --100\n",
        "    if mark <= 100:\n",
        "        print(\"Grade = A+ \\n Grade point: 4.00\")\n",
        "elif mark >= 75:     # mark = 75 --79    \n",
        "    if mark <= 79:\n",
        "        print(\"Grade = A \\n Grade point: 3.75\")\n",
        "elif mark >= 70:     # mark = 7 --74    \n",
        "    if mark <= 74:\n",
        "        print(\"Grade = A- \\n Grade point: 3.50\")\n",
        "elif mark >= 65:     # mark = 65 --69    \n",
        "    if mark <= 69:\n",
        "        print(\"Grade = b+ \\n Grade point: 3.25\")\n",
        "elif mark >= 64:     # mark = 64 --60    \n",
        "    if mark <= 60:\n",
        "        print(\"Grade = B \\n Grade point: 3.00\")\n",
        "elif mark >= 50:     # mark = 50 --59    \n",
        "    if mark <= 59:\n",
        "        print(\"Grade = B- \\n Grade point: 2.75\")\n",
        "elif mark >= 50:     # mark = 50 --54    \n",
        "    if mark <= 54:\n",
        "        print(\"Grade = C+ \\n Grade point: 2.50\")\n",
        "elif mark >= 40:     # mark = 40 --44    \n",
        "    if mark <= 44:\n",
        "        print(\"Grade = D \\n Grade point: 2.00\")\n",
        "else:               # MARK = 00 ---> 39\n",
        "    print(\"FAIL\\n Grade point:0.00\")"
      ],
      "execution_count": null,
      "outputs": []
    },
    {
      "cell_type": "code",
      "metadata": {
        "id": "lZWVLI_A0889"
      },
      "source": [
        " print(\"Enter your subject mark:\")\n",
        "mark = int (input())\n",
        "if mark >= 80:       # mark = 79 --100\n",
        "    if mark <= 100:\n",
        "        print(\"Grade = A+ \\n Grade point: 4.00\")\n",
        "elif mark >= 75:     # mark = 75 --79    \n",
        "    if mark <= 79:\n",
        "        print(\"Grade = A \\n Grade point: 3.75\")\n",
        "elif mark >= 70:     # mark = 7 --74    \n",
        "    if mark <= 74:\n",
        "        print(\"Grade = A- \\n Grade point: 3.50\")\n",
        "elif mark >= 65:     # mark = 65 --69    \n",
        "    if mark <= 69:\n",
        "        print(\"Grade = b+ \\n Grade point: 3.25\")\n",
        "elif mark >= 64:     # mark = 64 --60    \n",
        "    if mark <= 60:\n",
        "        print(\"Grade = B \\n Grade point: 3.00\")\n",
        "elif mark >= 50:     # mark = 50 --59    \n",
        "    if mark <= 59:\n",
        "        print(\"Grade = B- \\n Grade point: 2.75\")\n",
        "elif mark >= 50:     # mark = 50 --54    \n",
        "    if mark <= 54:\n",
        "        print(\"Grade = C+ \\n Grade point: 2.50\")\n",
        "elif mark >= 40:     # mark = 40 --44    \n",
        "    if mark <= 44:\n",
        "        print(\"Grade = D \\n Grade point: 2.00\")\n",
        "else:               # MARK = 00 ---> 39\n",
        "    print(\"FAIL\\n Grade point:0.00\")"
      ],
      "execution_count": null,
      "outputs": []
    },
    {
      "cell_type": "markdown",
      "metadata": {
        "id": "Qti9sl37FC9G"
      },
      "source": [
        "**FUNCTION**"
      ]
    },
    {
      "cell_type": "code",
      "metadata": {
        "id": "og4WBVWxFnId"
      },
      "source": [
        "def add(a,b):\n",
        "    c = a+b\n",
        "    return c\n",
        "\n",
        "def sub(a,b):\n",
        "    c = a-b\n",
        "    return c\n",
        "\n",
        "a = 5\n",
        "b = 8\n",
        "\n",
        "s = add(a,b)\n",
        "\n",
        "print(\"ADD: \",s)\n",
        "\n",
        "d =sub(a,b)\n",
        "\n",
        "print(\"SUBTRACT: \",d)"
      ],
      "execution_count": null,
      "outputs": []
    },
    {
      "cell_type": "code",
      "metadata": {
        "id": "gMnuPD1vJFrB",
        "colab": {
          "base_uri": "https://localhost:8080/"
        },
        "outputId": "ab48524f-0e9a-4e79-c40a-0285230c078f"
      },
      "source": [
        "def display(name,id,age):\n",
        "    print(\"Name: \",name)\n",
        "    print(\"Id: \",id)\n",
        "    print(\"Age: \",age)\n",
        "a = \"lutful bari musa\"\n",
        "b = \"552464940\"\n",
        "c = \"21\"\n",
        "display(a,b,c)    \n",
        "    "
      ],
      "execution_count": null,
      "outputs": [
        {
          "output_type": "stream",
          "text": [
            "Name:  lutful bari musa\n",
            "Id:  552464940\n",
            "Age:  21\n"
          ],
          "name": "stdout"
        }
      ]
    },
    {
      "cell_type": "code",
      "metadata": {
        "id": "BhRukINEMBMU"
      },
      "source": [
        "def display(name,id,age):\n",
        "    print(\"Name: \",name)\n",
        "    print(\"Id: \",id)\n",
        "    print(\"Age: \",age)\n",
        "a = \"lutful bari musa\"\n",
        "b = \"552464940\"\n",
        "c = \"21\"\n",
        "display(a,b,c)    \n",
        "         \n",
        "d = \"LutfulBariMusa\"\n",
        "e = \"400464040\"\n",
        "f = \"22\"\n",
        " \n",
        "display(d,e,f)       "
      ],
      "execution_count": null,
      "outputs": []
    },
    {
      "cell_type": "code",
      "metadata": {
        "id": "pr8pxNzDMq3v"
      },
      "source": [
        "def display(name,id,age):\n",
        "    print(\"Name: \",name,\"--> Id: \",id,\"--> Age: \",age)\n",
        "    \n",
        "a = \"lutful bari musa\"\n",
        "b = \"552464940\"\n",
        "c = \"21\"\n",
        "display(a,b,c)    \n",
        "         \n",
        "d = \"LutfulBariMusa\"\n",
        "e = \"400464040\"\n",
        "f = \"22\"\n",
        " \n",
        "display(d,e,f)  "
      ],
      "execution_count": null,
      "outputs": []
    },
    {
      "cell_type": "code",
      "metadata": {
        "id": "shE0G85EOpt_",
        "colab": {
          "base_uri": "https://localhost:8080/"
        },
        "outputId": "994c6260-cae2-4831-f3e3-fced0ff0b3da"
      },
      "source": [
        "def print_greatest_no(a,b,c):\n",
        "    \n",
        "    if a>b:\n",
        "        if a>c:\n",
        "            print(a,\"is Greatest\")\n",
        "        else:\n",
        "            print(c,\"is Greatest\")\n",
        "    elif b>a:\n",
        "        if b>c:\n",
        "            print(b,\"is Greatest\")   \n",
        "        else:\n",
        "            print(c,\"is Greatest\")   \n",
        "    else:\n",
        "        print(c,\"is Greatest\")   \n",
        "a = 40\n",
        "b = 20\n",
        "c = 30\n",
        "print_greatest_no(a,b,c)                "
      ],
      "execution_count": null,
      "outputs": [
        {
          "output_type": "stream",
          "text": [
            "40 is Greatest\n"
          ],
          "name": "stdout"
        }
      ]
    },
    {
      "cell_type": "code",
      "metadata": {
        "id": "0HJufoi4QcWq"
      },
      "source": [
        "def print_greatest_no(a,b,c):\n",
        "    greatest = 0\n",
        "    if a>b:\n",
        "        if a>c:\n",
        "            greatest = a\n",
        "        else:\n",
        "            greatest = c\n",
        "    elif b>a:\n",
        "        if b>c:\n",
        "            greatest = b   \n",
        "        else:\n",
        "            greatest = c   \n",
        "    else:\n",
        "        greatest = c\n",
        "\n",
        "    print(greatest,\"is greatest\")   \n",
        "a = 40\n",
        "b = 20\n",
        "c = 30\n",
        "print_greatest_no(a,b,c)                "
      ],
      "execution_count": null,
      "outputs": []
    },
    {
      "cell_type": "code",
      "metadata": {
        "id": "i_Ia1yCPTdTu",
        "colab": {
          "base_uri": "https://localhost:8080/"
        },
        "outputId": "b50152db-5ae7-4583-df59-3422b1f9d393"
      },
      "source": [
        "def get_greatest_no(a,b,c):\n",
        "    greatest = 0\n",
        "    if a>b:\n",
        "        if a>c:\n",
        "            greatest = a\n",
        "        else:\n",
        "            greatest = c\n",
        "    elif b>a:\n",
        "        if b>c:\n",
        "            greatest = b   \n",
        "        else:\n",
        "            greatest = c   \n",
        "    else:\n",
        "        greatest = c\n",
        "\n",
        "    return greatest   \n",
        "\n",
        "a = 40\n",
        "b = 20\n",
        "c = 30\n",
        "d = get_greatest_no(a,b,c)\n",
        "\n",
        "print(d,\"is greatest\")"
      ],
      "execution_count": null,
      "outputs": [
        {
          "output_type": "stream",
          "text": [
            "40 is greatest\n"
          ],
          "name": "stdout"
        }
      ]
    },
    {
      "cell_type": "markdown",
      "metadata": {
        "id": "QfyWn-K-ShU-"
      },
      "source": [
        "**passing prameter by name**"
      ]
    },
    {
      "cell_type": "code",
      "metadata": {
        "id": "ccXT9m_LVexq",
        "colab": {
          "base_uri": "https://localhost:8080/",
          "height": 35
        },
        "outputId": "2053f82f-8803-4e21-bef3-6dcc215f6771"
      },
      "source": [
        "def display(name,id):\n",
        "    \n",
        "    print(\"Name: \",name,\" --> ID: \",id)\n",
        "\n",
        "display(name = \"lutful\",id = 20)    "
      ],
      "execution_count": null,
      "outputs": [
        {
          "output_type": "stream",
          "text": [
            "Name:  lutful  --> ID:  20\n"
          ],
          "name": "stdout"
        }
      ]
    },
    {
      "cell_type": "code",
      "metadata": {
        "id": "AbJGbIkAvH_I",
        "colab": {
          "base_uri": "https://localhost:8080/",
          "height": 35
        },
        "outputId": "e5269076-aa19-4fa5-a9d5-b821315d87a2"
      },
      "source": [
        "def display(name,id):\n",
        "    \n",
        "    print(\"Name: \",name,\" --> ID: \",id)\n",
        "\n",
        "display(id = 20,name = \"lutful\")    "
      ],
      "execution_count": null,
      "outputs": [
        {
          "output_type": "stream",
          "text": [
            "Name:  lutful  --> ID:  20\n"
          ],
          "name": "stdout"
        }
      ]
    },
    {
      "cell_type": "code",
      "metadata": {
        "id": "gGPEEi-8vSP0",
        "colab": {
          "base_uri": "https://localhost:8080/",
          "height": 35
        },
        "outputId": "1e012b55-92ba-41dd-81b1-8cf6c06378d3"
      },
      "source": [
        "def display(name,id):\n",
        "    \n",
        "    print(\"Name: \",name,\" --> ID: \",id)\n",
        "\n",
        "display(20,\"lutful\")    "
      ],
      "execution_count": null,
      "outputs": [
        {
          "output_type": "stream",
          "text": [
            "Name:  20  --> ID:  lutful\n"
          ],
          "name": "stdout"
        }
      ]
    },
    {
      "cell_type": "code",
      "metadata": {
        "id": "NiFA21fmvY7f",
        "colab": {
          "base_uri": "https://localhost:8080/",
          "height": 35
        },
        "outputId": "4076d300-325c-45a1-d043-4d75847aadea"
      },
      "source": [
        "def display(name,id):\n",
        "    \n",
        "    print(\"Name: \",name,\" --> ID: \",id)\n",
        "\n",
        "display(\"lutful\",20)    "
      ],
      "execution_count": null,
      "outputs": [
        {
          "output_type": "stream",
          "text": [
            "Name:  lutful  --> ID:  20\n"
          ],
          "name": "stdout"
        }
      ]
    },
    {
      "cell_type": "markdown",
      "metadata": {
        "id": "cBxlj3sd1996"
      },
      "source": [
        "**Forwarding function**"
      ]
    },
    {
      "cell_type": "code",
      "metadata": {
        "id": "3k3JFcPY2EZF",
        "colab": {
          "base_uri": "https://localhost:8080/"
        },
        "outputId": "896e58cd-3cc4-4c3b-ac50-78cda873b3e2"
      },
      "source": [
        "def add(p,q,r):\n",
        "    return p+q+r\n",
        "\n",
        "d1 =  [1000,20,10]\n",
        "s = add(d1[0],d1[1],d1[2])\n",
        "print(s)    \n"
      ],
      "execution_count": null,
      "outputs": [
        {
          "output_type": "stream",
          "text": [
            "1030\n"
          ],
          "name": "stdout"
        }
      ]
    },
    {
      "cell_type": "code",
      "metadata": {
        "id": "LF4rti2C20nQ",
        "colab": {
          "base_uri": "https://localhost:8080/"
        },
        "outputId": "facb640d-1e22-4600-f004-4fc5f0013581"
      },
      "source": [
        "def add(p,q,r):\n",
        "    return p+q+r\n",
        "\n",
        "def add1(q,p,r):\n",
        "    return p+q+r\n",
        "\n",
        "def add2(p,q,r):\n",
        "    return p+q+r\n",
        "\n",
        "d1 =  [1000,20,10]\n",
        "s = add(d1[0],d1[1],d1[2])\n",
        "\n",
        "print(s)  "
      ],
      "execution_count": null,
      "outputs": [
        {
          "output_type": "stream",
          "text": [
            "1030\n"
          ],
          "name": "stdout"
        }
      ]
    },
    {
      "cell_type": "markdown",
      "metadata": {
        "id": "w4VhShpsRXjk"
      },
      "source": [
        "**forwarding function**"
      ]
    },
    {
      "cell_type": "code",
      "metadata": {
        "id": "YVwQATw60JMM",
        "colab": {
          "base_uri": "https://localhost:8080/",
          "height": 34
        },
        "outputId": "a8ffaa13-a4b5-475c-adfc-debdbb06d288"
      },
      "source": [
        "def add(p,q,r):\n",
        "    return p+q+r\n",
        "\n",
        "def add1(q,p,r):\n",
        "    return p+q+r\n",
        "\n",
        "def add2(p,q,r):\n",
        "    return add1(q,p,r)\n",
        "\n",
        "d1 = [1000,20,10]\n",
        "s = add(*d1)\n",
        "print(s)\n",
        "\n",
        "#print(add2(d1))"
      ],
      "execution_count": null,
      "outputs": [
        {
          "output_type": "stream",
          "text": [
            "1030\n"
          ],
          "name": "stdout"
        }
      ]
    },
    {
      "cell_type": "code",
      "metadata": {
        "id": "cI4tuhwXTYjL",
        "colab": {
          "base_uri": "https://localhost:8080/",
          "height": 34
        },
        "outputId": "b66b6ebd-5a24-4f0a-c918-59260b7ec3c7"
      },
      "source": [
        "def add(p,q,r):\n",
        "    return p+q+r\n",
        "\n",
        "def add1(q,p,r):\n",
        "    return p-q+r\n",
        "\n",
        "#forwarding function \n",
        "\n",
        "def add2(p,q,r):\n",
        "    return add1(q,p,r)\n",
        "\n",
        "d1 = [1000,20,10]\n",
        "s = add(*d1)\n",
        "#print(s)\n",
        "\n",
        "print(add1(*d1))"
      ],
      "execution_count": null,
      "outputs": [
        {
          "output_type": "stream",
          "text": [
            "-970\n"
          ],
          "name": "stdout"
        }
      ]
    },
    {
      "cell_type": "markdown",
      "metadata": {
        "id": "bXRg_OrBUu8Q"
      },
      "source": [
        "**While loop**"
      ]
    },
    {
      "cell_type": "code",
      "metadata": {
        "id": "58lNxTd9Uz5N",
        "colab": {
          "base_uri": "https://localhost:8080/",
          "height": 187
        },
        "outputId": "33a2bdf5-3895-453d-abd6-274612c36f74"
      },
      "source": [
        "i = 0\n",
        "\n",
        "while i<10:\n",
        "    print(i)\n",
        "    i = i + 1\n"
      ],
      "execution_count": null,
      "outputs": [
        {
          "output_type": "stream",
          "text": [
            "0\n",
            "1\n",
            "2\n",
            "3\n",
            "4\n",
            "5\n",
            "6\n",
            "7\n",
            "8\n",
            "9\n"
          ],
          "name": "stdout"
        }
      ]
    },
    {
      "cell_type": "markdown",
      "metadata": {
        "id": "j5w2EKHMckXf"
      },
      "source": [
        "**Continue and Brack**"
      ]
    },
    {
      "cell_type": "code",
      "metadata": {
        "id": "B4bxYSzucsoL",
        "colab": {
          "base_uri": "https://localhost:8080/",
          "height": 170
        },
        "outputId": "cba783ce-5cc7-4637-c41e-40a3f15db927"
      },
      "source": [
        "i = 0\n",
        "while i<10:\n",
        "    if i==5:\n",
        "        i = i + 1\n",
        "        continue\n",
        "    print(i)\n",
        "    i = i + 1"
      ],
      "execution_count": null,
      "outputs": [
        {
          "output_type": "stream",
          "text": [
            "0\n",
            "1\n",
            "2\n",
            "3\n",
            "4\n",
            "6\n",
            "7\n",
            "8\n",
            "9\n"
          ],
          "name": "stdout"
        }
      ]
    },
    {
      "cell_type": "code",
      "metadata": {
        "id": "ug_OOoY9dvWb",
        "colab": {
          "base_uri": "https://localhost:8080/",
          "height": 119
        },
        "outputId": "763c44b9-5b4b-4590-f507-464c22289658"
      },
      "source": [
        "i = 0\n",
        "while i<10:\n",
        "    if i==5:\n",
        "        i = i + 1\n",
        "        break\n",
        "    print(i)\n",
        "    i = i + 1\n",
        "print(\"end\")"
      ],
      "execution_count": null,
      "outputs": [
        {
          "output_type": "stream",
          "text": [
            "0\n",
            "1\n",
            "2\n",
            "3\n",
            "4\n",
            "end\n"
          ],
          "name": "stdout"
        }
      ]
    },
    {
      "cell_type": "code",
      "metadata": {
        "id": "bYtY9UmoerKp",
        "colab": {
          "base_uri": "https://localhost:8080/"
        },
        "outputId": "4d51994b-6fe4-496c-eb63-31babb696b8f"
      },
      "source": [
        "i = 0\n",
        "while i<10:\n",
        "    if i==5:\n",
        "        i = i + 1\n",
        "        continue\n",
        "    print(i)\n",
        "    i = i + 1\n",
        "print(\"end\")"
      ],
      "execution_count": null,
      "outputs": [
        {
          "output_type": "stream",
          "text": [
            "0\n",
            "1\n",
            "2\n",
            "3\n",
            "4\n",
            "6\n",
            "7\n",
            "8\n",
            "9\n",
            "end\n"
          ],
          "name": "stdout"
        }
      ]
    },
    {
      "cell_type": "markdown",
      "metadata": {
        "id": "tQHAsqpu_8WC"
      },
      "source": [
        "**FIBONACCI NUMBER**"
      ]
    },
    {
      "cell_type": "code",
      "metadata": {
        "id": "gBy4SF5YABv0",
        "colab": {
          "base_uri": "https://localhost:8080/"
        },
        "outputId": "6f487ee0-dce1-41db-b453-928906ab3c67"
      },
      "source": [
        "def fibonacci (n):\n",
        "    first = 0\n",
        "    second = 1\n",
        "    fibo = 0\n",
        "    print(first)\n",
        "    print(second)\n",
        "\n",
        "    i = 3\n",
        "    while i <= n:\n",
        "        fibo = first + second\n",
        "        print(fibo)\n",
        "        first = second \n",
        "        second = fibo\n",
        "        i = i + 1\n",
        "a = int(input(\"Enter a number: \"))\n",
        "fibonacci (a)"
      ],
      "execution_count": null,
      "outputs": [
        {
          "output_type": "stream",
          "text": [
            "Enter a number: 32\n",
            "0\n",
            "1\n",
            "1\n",
            "2\n",
            "3\n",
            "5\n",
            "8\n",
            "13\n",
            "21\n",
            "34\n",
            "55\n",
            "89\n",
            "144\n",
            "233\n",
            "377\n",
            "610\n",
            "987\n",
            "1597\n",
            "2584\n",
            "4181\n",
            "6765\n",
            "10946\n",
            "17711\n",
            "28657\n",
            "46368\n",
            "75025\n",
            "121393\n",
            "196418\n",
            "317811\n",
            "514229\n",
            "832040\n",
            "1346269\n"
          ],
          "name": "stdout"
        }
      ]
    },
    {
      "cell_type": "markdown",
      "metadata": {
        "id": "C-NO2kN8pL-r"
      },
      "source": [
        "# Function "
      ]
    },
    {
      "cell_type": "code",
      "metadata": {
        "colab": {
          "base_uri": "https://localhost:8080/",
          "height": 389
        },
        "id": "E40g0qtapUmO",
        "outputId": "313533f3-d3f7-4819-eac4-8547f3d3cf23"
      },
      "source": [
        "def add(a,b):\n",
        "    c = a+b\n",
        "    return c\n",
        "\n",
        "def sub(a,b):\n",
        "    c = a-b         # one houre pagol hoye gesilam ple solved koren\n",
        "    return c\n",
        "\n",
        "a = ('rahat is a cse student+')\n",
        "\n",
        "b = ('student time he is doing work')\n",
        "\n",
        "s = add(a,b)\n",
        "\n",
        "print(\"ADD: \",s)\n",
        "\n",
        "d = sub(a,b)\n",
        "\n",
        "print(\"SUBTRACT: \",d)"
      ],
      "execution_count": 44,
      "outputs": [
        {
          "output_type": "stream",
          "text": [
            "ADD:  rahat is a cse student+student time he is doing work\n"
          ],
          "name": "stdout"
        },
        {
          "output_type": "error",
          "ename": "TypeError",
          "evalue": "ignored",
          "traceback": [
            "\u001b[0;31m---------------------------------------------------------------------------\u001b[0m",
            "\u001b[0;31mTypeError\u001b[0m                                 Traceback (most recent call last)",
            "\u001b[0;32m<ipython-input-44-b95b5baf772c>\u001b[0m in \u001b[0;36m<module>\u001b[0;34m()\u001b[0m\n\u001b[1;32m     15\u001b[0m \u001b[0mprint\u001b[0m\u001b[0;34m(\u001b[0m\u001b[0;34m\"ADD: \"\u001b[0m\u001b[0;34m,\u001b[0m\u001b[0ms\u001b[0m\u001b[0;34m)\u001b[0m\u001b[0;34m\u001b[0m\u001b[0;34m\u001b[0m\u001b[0m\n\u001b[1;32m     16\u001b[0m \u001b[0;34m\u001b[0m\u001b[0m\n\u001b[0;32m---> 17\u001b[0;31m \u001b[0md\u001b[0m \u001b[0;34m=\u001b[0m \u001b[0msub\u001b[0m\u001b[0;34m(\u001b[0m\u001b[0ma\u001b[0m\u001b[0;34m,\u001b[0m\u001b[0mb\u001b[0m\u001b[0;34m)\u001b[0m\u001b[0;34m\u001b[0m\u001b[0;34m\u001b[0m\u001b[0m\n\u001b[0m\u001b[1;32m     18\u001b[0m \u001b[0;34m\u001b[0m\u001b[0m\n\u001b[1;32m     19\u001b[0m \u001b[0mprint\u001b[0m\u001b[0;34m(\u001b[0m\u001b[0;34m\"SUBTRACT: \"\u001b[0m\u001b[0;34m,\u001b[0m\u001b[0md\u001b[0m\u001b[0;34m)\u001b[0m\u001b[0;34m\u001b[0m\u001b[0;34m\u001b[0m\u001b[0m\n",
            "\u001b[0;32m<ipython-input-44-b95b5baf772c>\u001b[0m in \u001b[0;36msub\u001b[0;34m(a, b)\u001b[0m\n\u001b[1;32m      4\u001b[0m \u001b[0;34m\u001b[0m\u001b[0m\n\u001b[1;32m      5\u001b[0m \u001b[0;32mdef\u001b[0m \u001b[0msub\u001b[0m\u001b[0;34m(\u001b[0m\u001b[0ma\u001b[0m\u001b[0;34m,\u001b[0m\u001b[0mb\u001b[0m\u001b[0;34m)\u001b[0m\u001b[0;34m:\u001b[0m\u001b[0;34m\u001b[0m\u001b[0;34m\u001b[0m\u001b[0m\n\u001b[0;32m----> 6\u001b[0;31m     \u001b[0mc\u001b[0m \u001b[0;34m=\u001b[0m \u001b[0ma\u001b[0m\u001b[0;34m-\u001b[0m\u001b[0mb\u001b[0m         \u001b[0;31m# one houre pagol hoye gesilam ple solved koren\u001b[0m\u001b[0;34m\u001b[0m\u001b[0;34m\u001b[0m\u001b[0m\n\u001b[0m\u001b[1;32m      7\u001b[0m     \u001b[0;32mreturn\u001b[0m \u001b[0mc\u001b[0m\u001b[0;34m\u001b[0m\u001b[0;34m\u001b[0m\u001b[0m\n\u001b[1;32m      8\u001b[0m \u001b[0;34m\u001b[0m\u001b[0m\n",
            "\u001b[0;31mTypeError\u001b[0m: unsupported operand type(s) for -: 'str' and 'str'"
          ]
        }
      ]
    },
    {
      "cell_type": "markdown",
      "metadata": {
        "id": "mpgqnsSRVgRh"
      },
      "source": [
        ""
      ]
    }
  ]
}