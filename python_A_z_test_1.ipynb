{
  "nbformat": 4,
  "nbformat_minor": 0,
  "metadata": {
    "colab": {
      "name": "python-A-z-test-1.ipynb",
      "provenance": [],
      "collapsed_sections": [],
      "authorship_tag": "ABX9TyPYKloa4II0LADl/8ZFkBXo",
      "include_colab_link": true
    },
    "kernelspec": {
      "name": "python3",
      "display_name": "Python 3"
    }
  },
  "cells": [
    {
      "cell_type": "markdown",
      "metadata": {
        "id": "view-in-github",
        "colab_type": "text"
      },
      "source": [
        "<a href=\"https://colab.research.google.com/github/Lutfulbari/python-A-to-Z/blob/gh-pages/python_A_z_test_1.ipynb\" target=\"_parent\"><img src=\"https://colab.research.google.com/assets/colab-badge.svg\" alt=\"Open In Colab\"/></a>"
      ]
    },
    {
      "cell_type": "code",
      "metadata": {
        "id": "rxllu1MjWwFo"
      },
      "source": [
        "print('hello\\nworld')"
      ],
      "execution_count": null,
      "outputs": []
    },
    {
      "cell_type": "code",
      "metadata": {
        "id": "GF_pimhLUBl9"
      },
      "source": [
        "print('hello world')"
      ],
      "execution_count": null,
      "outputs": []
    },
    {
      "cell_type": "code",
      "metadata": {
        "id": "Fz4eixovUHbZ"
      },
      "source": [
        "print('hello.world')"
      ],
      "execution_count": null,
      "outputs": []
    },
    {
      "cell_type": "code",
      "metadata": {
        "id": "lQdpb74pUSph"
      },
      "source": [
        "print('hello,world')"
      ],
      "execution_count": null,
      "outputs": []
    },
    {
      "cell_type": "markdown",
      "metadata": {
        "id": "LPR63m3-UZp6"
      },
      "source": [
        "** Math** summation````"
      ]
    },
    {
      "cell_type": "code",
      "metadata": {
        "id": "sw1OkNdvUqtY"
      },
      "source": [
        "a = 10\n",
        "b = 5\n",
        "c = a + b\n",
        "print(\"summation: \\n\",a,\"+\",b,\"=\",c,)"
      ],
      "execution_count": null,
      "outputs": []
    },
    {
      "cell_type": "markdown",
      "metadata": {
        "id": "yI6P-kY1WaKY"
      },
      "source": [
        "**subtract**"
      ]
    },
    {
      "cell_type": "code",
      "metadata": {
        "id": "sc4Eyg-UV8an"
      },
      "source": [
        "a = 10\n",
        "b = 5\n",
        "d = a - b\n",
        "print(\"subtract: \\n\",a,\"-\",b,\"=\",d,)"
      ],
      "execution_count": null,
      "outputs": []
    },
    {
      "cell_type": "markdown",
      "metadata": {
        "id": "ocRmW28PW8SJ"
      },
      "source": [
        "*multiple*\n"
      ]
    },
    {
      "cell_type": "code",
      "metadata": {
        "id": "ZOKaik0RWjxU"
      },
      "source": [
        "a = 10\n",
        "b = 5\n",
        "e = a * b\n",
        "print(\"multiple: \\n\",a,\"*\",b,\"=\",e,)"
      ],
      "execution_count": null,
      "outputs": []
    },
    {
      "cell_type": "markdown",
      "metadata": {
        "id": "1a2xvEd3XI27"
      },
      "source": [
        "Divided\n"
      ]
    },
    {
      "cell_type": "code",
      "metadata": {
        "id": "8aAYKO-EXMV7"
      },
      "source": [
        "a = 10\n",
        "b = 5\n",
        "d = a / b\n",
        "print(\"subtract: \\n\",a,\"/\",b,\"=\",d,)"
      ],
      "execution_count": null,
      "outputs": []
    },
    {
      "cell_type": "code",
      "metadata": {
        "id": "T7yLaG7BXvMr"
      },
      "source": [
        "'''a = 10\n",
        "b = 5\n",
        "d = a / b\n",
        "print(\"subtract: \\n\",a,\"/\",b,\"=\",d,)'''"
      ],
      "execution_count": null,
      "outputs": []
    },
    {
      "cell_type": "code",
      "metadata": {
        "id": "15eHo3YbX2vy"
      },
      "source": [
        "#a = 5\n",
        "#b = 5\n",
        "#d = a / b\n",
        "# print(\"subtract: \\n\",a,\"/\",b,\"=\",d,)"
      ],
      "execution_count": null,
      "outputs": []
    },
    {
      "cell_type": "markdown",
      "metadata": {
        "id": "6DZBFTmxYZgR"
      },
      "source": [
        "**string**"
      ]
    },
    {
      "cell_type": "code",
      "metadata": {
        "id": "SmZhYcwHYdRA"
      },
      "source": [
        "a = \"lutful\"\n",
        "b = \"bari\"\n",
        "c = a + b\n",
        "print(a+b)"
      ],
      "execution_count": null,
      "outputs": []
    },
    {
      "cell_type": "code",
      "metadata": {
        "id": "L6Bj47_nY1m5"
      },
      "source": [
        "a = \"lutful\"\n",
        "b = \"bari\"\n",
        "c = a + b\n",
        "print(a,b)"
      ],
      "execution_count": null,
      "outputs": []
    },
    {
      "cell_type": "code",
      "metadata": {
        "id": "nvyqyClpY-Qw"
      },
      "source": [
        "a = \"lutful\"\n",
        "b = \"bari\"\n",
        "c = a + b\n",
        "print(c,2222)"
      ],
      "execution_count": null,
      "outputs": []
    },
    {
      "cell_type": "markdown",
      "metadata": {
        "id": "wd8GrgMpZfJf"
      },
      "source": [
        "capitalize"
      ]
    },
    {
      "cell_type": "code",
      "metadata": {
        "id": "sKzfclIPZQV_"
      },
      "source": [
        "a = \"python developer\"\n",
        "cap = a.capitalize()\n",
        "print(cap)"
      ],
      "execution_count": null,
      "outputs": []
    },
    {
      "cell_type": "markdown",
      "metadata": {
        "id": "E2eWdlPKaAzt"
      },
      "source": [
        "**uppercase**"
      ]
    },
    {
      "cell_type": "code",
      "metadata": {
        "id": "sK-J4ArlaE8G"
      },
      "source": [
        "a = \"python developer\"\n",
        "up = a.upper()\n",
        "print(up)"
      ],
      "execution_count": null,
      "outputs": []
    },
    {
      "cell_type": "markdown",
      "metadata": {
        "id": "xPDtlEXgajMl"
      },
      "source": [
        "**Lowercase**"
      ]
    },
    {
      "cell_type": "code",
      "metadata": {
        "id": "Kw-8hB2hapeU"
      },
      "source": [
        "a = \"PYTHON DEVELOPER\"\n",
        "low = a.lower()\n",
        "print(low)"
      ],
      "execution_count": null,
      "outputs": []
    },
    {
      "cell_type": "markdown",
      "metadata": {
        "id": "fSz-bfnjbVKA"
      },
      "source": [
        "*title*"
      ]
    },
    {
      "cell_type": "code",
      "metadata": {
        "id": "Ng8G8bKIbcWD"
      },
      "source": [
        "a = \"PYTHON DEVELOPER\"\n",
        "tit = a.title()\n",
        "print(tit)"
      ],
      "execution_count": null,
      "outputs": []
    },
    {
      "cell_type": "markdown",
      "metadata": {
        "id": "Lj1nhYHzb88S"
      },
      "source": [
        "Boolean"
      ]
    },
    {
      "cell_type": "code",
      "metadata": {
        "id": "PmqFczZbcEHi"
      },
      "source": [
        "a = \"PYTHON DEVELOPER\"\n",
        "print(a.islower())"
      ],
      "execution_count": null,
      "outputs": []
    },
    {
      "cell_type": "code",
      "metadata": {
        "id": "wjOUum51cbDL"
      },
      "source": [
        "a = \"python developer\"\n",
        "print(a.islower())"
      ],
      "execution_count": null,
      "outputs": []
    },
    {
      "cell_type": "code",
      "metadata": {
        "id": "SdFPugK5c1_g"
      },
      "source": [
        "a = \"python developer\"\n",
        "print(a,\"is lower ?\",a.islower())\n",
        "print(a,\"is lower --> ?\",a.isupper())\n",
        "up = a.upper()\n",
        "print(up,\"--> Is Upper ?\",up.isupper())\n",
        "print(a,\"--> Is alpha ?\",up.isalpha())\n",
        "b=\"itscallalpha\"\n",
        "c=\"itscal50lalpha\"\n",
        "d=\"01552464940\"\n",
        "e=\"lutfulbarimusa\"\n",
        "print(b,\"--> Is alpha ?\",b.isalpha())\n",
        "print(c,\"--> Is alnum ?\",c.isalnum())\n",
        "print(d,\"--> Is aldigit ?\",d.isdigit())\n",
        "print(e,\"--> Is aldigit ?\",e.isdigit())\n"
      ],
      "execution_count": null,
      "outputs": []
    },
    {
      "cell_type": "markdown",
      "metadata": {
        "id": "HIeunYzLyGFS"
      },
      "source": [
        "**split**"
      ]
    },
    {
      "cell_type": "code",
      "metadata": {
        "id": "p0nNYw8P03WP"
      },
      "source": [
        "a ='musa want to be A python developer'\n",
        "sp = a.split('a')\n",
        "print(sp)\n",
        "b = 'musa want to be A python developer'\n",
        "sp = b.split('n')\n",
        "print(sp)\n",
        "a ='musa want to be A python developer'\n",
        "sp = a.split('m')\n",
        "print(sp)\n"
      ],
      "execution_count": null,
      "outputs": []
    },
    {
      "cell_type": "code",
      "metadata": {
        "id": "VrvDpMhD4Q8O"
      },
      "source": [
        "a = \"Musa want to be a python ios developer.\"\n",
        "find = a.find(\"b\")\n",
        "print(find)\n",
        "a = \"Musa want to be a python ios developer.\"\n",
        "find = a.find(\"sa\")\n",
        "print(find)\n",
        "a = \"Musa want to be a python ios developer 2020.\"\n",
        "find = a.find(\"20\")\n",
        "print(find)\n",
        "# join()\n",
        "a = \"Musa  want to be a python ios developer.\"\n",
        "find = a.find(\"b\")\n",
        "print(find)"
      ],
      "execution_count": null,
      "outputs": []
    },
    {
      "cell_type": "markdown",
      "metadata": {
        "id": "aWcjQvBwGNtN"
      },
      "source": [
        "**Join**"
      ]
    },
    {
      "cell_type": "code",
      "metadata": {
        "id": "Sf9MrM_-GQUE"
      },
      "source": [
        "a = [\"Musa\",\"want\",\"to\",\"be\",\"a\",\"python\",\"ios\",\"developer.\"]\n",
        "b = '<>'\n",
        "print(b.join(a))"
      ],
      "execution_count": null,
      "outputs": []
    },
    {
      "cell_type": "code",
      "metadata": {
        "id": "VVNWCtv6J5x3"
      },
      "source": [
        "a = [\"Musa\",\"want\",\"to\",\"be\",\"a\",\"python\",\"ios\",\"developer.\"]\n",
        "b = '()\\n'\n",
        "print(b.join(a))"
      ],
      "execution_count": null,
      "outputs": []
    },
    {
      "cell_type": "markdown",
      "metadata": {
        "id": "XYg3ba2VKMb7"
      },
      "source": [
        "**string .format**"
      ]
    },
    {
      "cell_type": "code",
      "metadata": {
        "id": "BsTONzDOKbGj"
      },
      "source": [
        "print('{1} {2} {0}'.format('one','two','three'))\n",
        "print('{0} {1} {2} {0}'.format('one','two','three'))\n",
        "\n",
        "print('{:.>20} {} {} '.format('one','two','three'))\n",
        "print('{:.<20} {} {} '.format('one','two','three'))\n",
        "print('{:.^20} {:.^20} {:.^20} '.format('one','two','three'))"
      ],
      "execution_count": null,
      "outputs": []
    },
    {
      "cell_type": "markdown",
      "metadata": {
        "id": "khIzahIHeIpD"
      },
      "source": [
        "**input**"
      ]
    },
    {
      "cell_type": "code",
      "metadata": {
        "id": "HXRiEmWKeMeU"
      },
      "source": [
        "a = input()\n",
        "b = input()\n",
        "print(a+b) "
      ],
      "execution_count": null,
      "outputs": []
    },
    {
      "cell_type": "code",
      "metadata": {
        "id": "QnqzX7Yke3MD"
      },
      "source": [
        "a =int (input())\n",
        "b =int (input())\n",
        "print(a+b) "
      ],
      "execution_count": null,
      "outputs": []
    },
    {
      "cell_type": "code",
      "metadata": {
        "id": "rNaQ56JTfQ8R"
      },
      "source": [
        "a =float (input())\n",
        "b =float (input())\n",
        "print(a+b) "
      ],
      "execution_count": null,
      "outputs": []
    },
    {
      "cell_type": "code",
      "metadata": {
        "id": "a9ebDBzCfhYX"
      },
      "source": [
        "a =(input())\n",
        "b =(input())\n",
        "print(a+b)\n"
      ],
      "execution_count": null,
      "outputs": []
    },
    {
      "cell_type": "markdown",
      "metadata": {
        "id": "M2MVSfu3MZYH"
      },
      "source": [
        "**if&eles**if=eles condition   statemenr\n",
        "\n"
      ]
    },
    {
      "cell_type": "code",
      "metadata": {
        "id": "ob428EfwMjzW"
      },
      "source": [
        "a = 5\n",
        "b = 8\n",
        "if a < b:\n",
        "    print(\"a is small\")\n",
        "else:\n",
        "    print('b is small')\n",
        "    "
      ],
      "execution_count": null,
      "outputs": []
    },
    {
      "cell_type": "code",
      "metadata": {
        "id": "y3tbtJIcBvK2"
      },
      "source": [
        "a = 44\n",
        "b = 8\n",
        "if a < b:\n",
        "    print(\"a is small\")\n",
        "else:\n",
        "\n",
        "    print('b is small')\n"
      ],
      "execution_count": null,
      "outputs": []
    },
    {
      "cell_type": "code",
      "metadata": {
        "id": "UFmoQkAtCGwq"
      },
      "source": [
        "c = 44\n",
        "d = 12\n",
        "if c < d:\n",
        "\n",
        "    print(\"c is small\")\n",
        "else:\n",
        "\n",
        "    print('d is small')    \n",
        "    "
      ],
      "execution_count": null,
      "outputs": []
    },
    {
      "cell_type": "code",
      "metadata": {
        "id": "PPULQcB6SC1a"
      },
      "source": [
        "a =int (input())  \n",
        "b =int (input())\n",
        "a = 333\n",
        "b = 314\n",
        "if a > b:\n",
        "    print('a is small')\n",
        "else:\n",
        "    print('b is smal')"
      ],
      "execution_count": null,
      "outputs": []
    },
    {
      "cell_type": "code",
      "metadata": {
        "id": "KGyYoWbbEXQx"
      },
      "source": [
        "a = 5\n",
        "b = 8\n",
        "\n",
        "if a < b:\n",
        "    print(\"a is small\")\n",
        "else:\n",
        "    print(\"b is small\")    "
      ],
      "execution_count": null,
      "outputs": []
    },
    {
      "cell_type": "code",
      "metadata": {
        "id": "mvAIba3SE2fe"
      },
      "source": [
        "a = 53\n",
        "b = 8\n",
        "\n",
        "if a < b:\n",
        "    print(\"a is small\")\n",
        "else:\n",
        "    print(\"b is small\")             "
      ],
      "execution_count": null,
      "outputs": []
    },
    {
      "cell_type": "code",
      "metadata": {
        "id": "Cfp3gehDE-NV"
      },
      "source": [
        "print(\"enter first is small:\")\n",
        "a = int (input())\n",
        "\n",
        "print(\"enter scound is small:\")\n",
        "b = int (input())\n",
        "\n",
        "\n",
        "if a < b:\n",
        "\n",
        "    print(\"first number is small\")\n",
        "else:\n",
        "\n",
        "    print(\"scound number is small\")   "
      ],
      "execution_count": null,
      "outputs": []
    },
    {
      "cell_type": "markdown",
      "metadata": {
        "id": "WqB9JNf3H5Oj"
      },
      "source": [
        "**if & else**"
      ]
    },
    {
      "cell_type": "code",
      "metadata": {
        "id": "8DvmOeR_H-OI"
      },
      "source": [
        "a = 233\n",
        "b = 273\n",
        "c = 443\n",
        "if a > b:\n",
        "    if a > c:\n",
        "        print(\"a is gretest\")\n",
        "    else:\n",
        "        print(\"c is gretest\")\n",
        "elif b > c:\n",
        "    if b > a:\n",
        "        print(\"b is gretest\")\n",
        "    else:        \n",
        "        print(\"a is gretest\")\n",
        "\n",
        "else:\n",
        "    print(\"c is gretest\")       \n"
      ],
      "execution_count": null,
      "outputs": []
    },
    {
      "cell_type": "code",
      "metadata": {
        "id": "4flrEkn8Qnyy"
      },
      "source": [
        "a = 2322\n",
        "b = 223\n",
        "c = 43\n",
        "if a > b:\n",
        "    if a > c:\n",
        "        print(\"a is gretest\")\n",
        "    else:\n",
        "        print(\"c is gretest\")\n",
        "elif b > c:\n",
        "    if b > a:\n",
        "        print(\"b is gretest\")\n",
        "    else:        \n",
        "        print(\"a is gretest\")\n",
        "\n",
        "else:\n",
        "    print(\"c is gretest\")       \n"
      ],
      "execution_count": null,
      "outputs": []
    },
    {
      "cell_type": "code",
      "metadata": {
        "id": "ypJmUdP83oe4"
      },
      "source": [
        "a = 22\n",
        "b = 223\n",
        "c = 43\n",
        "if a < b:\n",
        "    if a < c:\n",
        "        \n",
        "        print(\"a is gretest\")\n",
        "    else:\n",
        "        print(\"c is gretest\")\n",
        "elif b > c:\n",
        "\n",
        "    if b > a:\n",
        "        print(\"b is gretest\")           \n",
        "    else:\n",
        "        print(\"a is gretest\")\n",
        "else:\n",
        "    print(\"c is gretest\")"
      ],
      "execution_count": null,
      "outputs": []
    },
    {
      "cell_type": "code",
      "metadata": {
        "id": "2WoEpcxJ7dZz"
      },
      "source": [
        "a = 53\n",
        "b = 8\n",
        "\n",
        "if a > b:\n",
        "    print(\"a is small\")"
      ],
      "execution_count": null,
      "outputs": []
    },
    {
      "cell_type": "code",
      "metadata": {
        "id": "nJvI9nlX7trm"
      },
      "source": [
        "a = 50\n",
        "b = 30\n",
        "c = 60\n",
        "if a > b:\n",
        "    if a > c:\n",
        "        print(\"a is gratest\")\n",
        "    else:\n",
        "        print(\"c is gretest\")\n",
        "elif b > c:\n",
        "    if b > a:\n",
        "        print(\"b is gratest\")\n",
        "    else:\n",
        "        print(\"a is gratest\")\n",
        "else:\n",
        "    print(\"c is gratest\")"
      ],
      "execution_count": null,
      "outputs": []
    },
    {
      "cell_type": "code",
      "metadata": {
        "id": "WVLUWYVwyHGp"
      },
      "source": [
        "a = 10\n",
        "b = 20\n",
        "c = 30\n",
        "if a > b:\n",
        "    if a > c:\n",
        "        print(\"a is gratest\")\n",
        "    else:\n",
        "        print(\"c is gratest\")\n",
        "elif b > c:\n",
        "    if b > a:\n",
        "        print(\"b is gratest\")\n",
        "    else:\n",
        "        print(\"a is gratest\")\n",
        "else:\n",
        "    print(\"b is gratest\")            "
      ],
      "execution_count": null,
      "outputs": []
    },
    {
      "cell_type": "markdown",
      "metadata": {
        "id": "lsXkpZ6GjQJm"
      },
      "source": [
        "**if & else  GRADE & GRADE POINT**"
      ]
    },
    {
      "cell_type": "code",
      "metadata": {
        "id": "R8B39Pm6jTV9"
      },
      "source": [
        "mark = int(input())\n",
        "if mark > 79:       # mark = 79 --100\n",
        "    if mark < 100:\n",
        "        print(\"A+\")\n",
        "elif mark > 75:     # mark = 75 --79    \n",
        "    if mark < 79:\n",
        "        print(\"A\")\n",
        "elif mark > 70:     # mark = 7 --74    \n",
        "    if mark < 74:\n",
        "        print(\"A-\") \n",
        "elif mark > 65:     # mark = 65 --69    \n",
        "    if mark < 69:\n",
        "        print(\"B+\")\n",
        "elif mark > 64:     # mark = 64 --60    \n",
        "    if mark < 60:\n",
        "        print(\"b-\")\n",
        "elif mark > 50:     # mark = 50 --59    \n",
        "    if mark < 59:\n",
        "        print(\"C+\")\n",
        "elif mark > 50:     # mark = 50 --54    \n",
        "    if mark < 54:\n",
        "        print(\"C\")\n",
        "elif mark > 40:     # mark = 40 --44    \n",
        "    if mark < 44:\n",
        "        print(\"D\")\n",
        "else:               # MARK = 00 ---> 39\n",
        "    print(\"FAIL\")"
      ],
      "execution_count": null,
      "outputs": []
    },
    {
      "cell_type": "code",
      "metadata": {
        "id": "uy4tQ9vLyWMM"
      },
      "source": [
        " print(\"Enter your subject mark:\")\n",
        "mark = int (input())\n",
        "if mark >= 80:       # mark = 79 --100\n",
        "    if mark <= 100:\n",
        "        print(\"Grade = A+ \\n Grade point: 4.00\")\n",
        "elif mark >= 75:     # mark = 75 --79    \n",
        "    if mark <= 79:\n",
        "        print(\"Grade = A \\n Grade point: 3.75\")\n",
        "elif mark >= 70:     # mark = 7 --74    \n",
        "    if mark <= 74:\n",
        "        print(\"Grade = A- \\n Grade point: 3.50\")\n",
        "elif mark >= 65:     # mark = 65 --69    \n",
        "    if mark <= 69:\n",
        "        print(\"Grade = b+ \\n Grade point: 3.25\")\n",
        "elif mark >= 64:     # mark = 64 --60    \n",
        "    if mark <= 60:\n",
        "        print(\"Grade = B \\n Grade point: 3.00\")\n",
        "elif mark >= 50:     # mark = 50 --59    \n",
        "    if mark <= 59:\n",
        "        print(\"Grade = B- \\n Grade point: 2.75\")\n",
        "elif mark >= 50:     # mark = 50 --54    \n",
        "    if mark <= 54:\n",
        "        print(\"Grade = C+ \\n Grade point: 2.50\")\n",
        "elif mark >= 40:     # mark = 40 --44    \n",
        "    if mark <= 44:\n",
        "        print(\"Grade = D \\n Grade point: 2.00\")\n",
        "else:               # MARK = 00 ---> 39\n",
        "    print(\"FAIL\\n Grade point:0.00\")"
      ],
      "execution_count": null,
      "outputs": []
    },
    {
      "cell_type": "code",
      "metadata": {
        "id": "lZWVLI_A0889"
      },
      "source": [
        " print(\"Enter your subject mark:\")\n",
        "mark = int (input())\n",
        "if mark >= 80:       # mark = 79 --100\n",
        "    if mark <= 100:\n",
        "        print(\"Grade = A+ \\n Grade point: 4.00\")\n",
        "elif mark >= 75:     # mark = 75 --79    \n",
        "    if mark <= 79:\n",
        "        print(\"Grade = A \\n Grade point: 3.75\")\n",
        "elif mark >= 70:     # mark = 7 --74    \n",
        "    if mark <= 74:\n",
        "        print(\"Grade = A- \\n Grade point: 3.50\")\n",
        "elif mark >= 65:     # mark = 65 --69    \n",
        "    if mark <= 69:\n",
        "        print(\"Grade = b+ \\n Grade point: 3.25\")\n",
        "elif mark >= 64:     # mark = 64 --60    \n",
        "    if mark <= 60:\n",
        "        print(\"Grade = B \\n Grade point: 3.00\")\n",
        "elif mark >= 50:     # mark = 50 --59    \n",
        "    if mark <= 59:\n",
        "        print(\"Grade = B- \\n Grade point: 2.75\")\n",
        "elif mark >= 50:     # mark = 50 --54    \n",
        "    if mark <= 54:\n",
        "        print(\"Grade = C+ \\n Grade point: 2.50\")\n",
        "elif mark >= 40:     # mark = 40 --44    \n",
        "    if mark <= 44:\n",
        "        print(\"Grade = D \\n Grade point: 2.00\")\n",
        "else:               # MARK = 00 ---> 39\n",
        "    print(\"FAIL\\n Grade point:0.00\")"
      ],
      "execution_count": null,
      "outputs": []
    },
    {
      "cell_type": "markdown",
      "metadata": {
        "id": "Qti9sl37FC9G"
      },
      "source": [
        "**FUNCTION**"
      ]
    },
    {
      "cell_type": "code",
      "metadata": {
        "id": "og4WBVWxFnId"
      },
      "source": [
        "def add(a,b):\n",
        "    c = a+b\n",
        "    return c\n",
        "\n",
        "def sub(a,b):\n",
        "    c = a-b\n",
        "    return c\n",
        "\n",
        "a = 5\n",
        "b = 8\n",
        "\n",
        "s = add(a,b)\n",
        "\n",
        "print(\"ADD: \",s)\n",
        "\n",
        "d =sub(a,b)\n",
        "\n",
        "print(\"SUBTRACT: \",d)"
      ],
      "execution_count": null,
      "outputs": []
    },
    {
      "cell_type": "code",
      "metadata": {
        "id": "gMnuPD1vJFrB",
        "colab": {
          "base_uri": "https://localhost:8080/"
        },
        "outputId": "ab48524f-0e9a-4e79-c40a-0285230c078f"
      },
      "source": [
        "def display(name,id,age):\n",
        "    print(\"Name: \",name)\n",
        "    print(\"Id: \",id)\n",
        "    print(\"Age: \",age)\n",
        "a = \"lutful bari musa\"\n",
        "b = \"552464940\"\n",
        "c = \"21\"\n",
        "display(a,b,c)    \n",
        "    "
      ],
      "execution_count": null,
      "outputs": [
        {
          "output_type": "stream",
          "text": [
            "Name:  lutful bari musa\n",
            "Id:  552464940\n",
            "Age:  21\n"
          ],
          "name": "stdout"
        }
      ]
    },
    {
      "cell_type": "code",
      "metadata": {
        "id": "BhRukINEMBMU"
      },
      "source": [
        "def display(name,id,age):\n",
        "    print(\"Name: \",name)\n",
        "    print(\"Id: \",id)\n",
        "    print(\"Age: \",age)\n",
        "a = \"lutful bari musa\"\n",
        "b = \"552464940\"\n",
        "c = \"21\"\n",
        "display(a,b,c)    \n",
        "         \n",
        "d = \"LutfulBariMusa\"\n",
        "e = \"400464040\"\n",
        "f = \"22\"\n",
        " \n",
        "display(d,e,f)       "
      ],
      "execution_count": null,
      "outputs": []
    },
    {
      "cell_type": "code",
      "metadata": {
        "id": "pr8pxNzDMq3v"
      },
      "source": [
        "def display(name,id,age):\n",
        "    print(\"Name: \",name,\"--> Id: \",id,\"--> Age: \",age)\n",
        "    \n",
        "a = \"lutful bari musa\"\n",
        "b = \"552464940\"\n",
        "c = \"21\"\n",
        "display(a,b,c)    \n",
        "         \n",
        "d = \"LutfulBariMusa\"\n",
        "e = \"400464040\"\n",
        "f = \"22\"\n",
        " \n",
        "display(d,e,f)  "
      ],
      "execution_count": null,
      "outputs": []
    },
    {
      "cell_type": "code",
      "metadata": {
        "id": "shE0G85EOpt_",
        "colab": {
          "base_uri": "https://localhost:8080/"
        },
        "outputId": "994c6260-cae2-4831-f3e3-fced0ff0b3da"
      },
      "source": [
        "def print_greatest_no(a,b,c):\n",
        "    \n",
        "    if a>b:\n",
        "        if a>c:\n",
        "            print(a,\"is Greatest\")\n",
        "        else:\n",
        "            print(c,\"is Greatest\")\n",
        "    elif b>a:\n",
        "        if b>c:\n",
        "            print(b,\"is Greatest\")   \n",
        "        else:\n",
        "            print(c,\"is Greatest\")   \n",
        "    else:\n",
        "        print(c,\"is Greatest\")   \n",
        "a = 40\n",
        "b = 20\n",
        "c = 30\n",
        "print_greatest_no(a,b,c)                "
      ],
      "execution_count": null,
      "outputs": [
        {
          "output_type": "stream",
          "text": [
            "40 is Greatest\n"
          ],
          "name": "stdout"
        }
      ]
    },
    {
      "cell_type": "code",
      "metadata": {
        "id": "0HJufoi4QcWq"
      },
      "source": [
        "def print_greatest_no(a,b,c):\n",
        "    greatest = 0\n",
        "    if a>b:\n",
        "        if a>c:\n",
        "            greatest = a\n",
        "        else:\n",
        "            greatest = c\n",
        "    elif b>a:\n",
        "        if b>c:\n",
        "            greatest = b   \n",
        "        else:\n",
        "            greatest = c   \n",
        "    else:\n",
        "        greatest = c\n",
        "\n",
        "    print(greatest,\"is greatest\")   \n",
        "a = 40\n",
        "b = 20\n",
        "c = 30\n",
        "print_greatest_no(a,b,c)                "
      ],
      "execution_count": null,
      "outputs": []
    },
    {
      "cell_type": "code",
      "metadata": {
        "id": "i_Ia1yCPTdTu",
        "colab": {
          "base_uri": "https://localhost:8080/"
        },
        "outputId": "b50152db-5ae7-4583-df59-3422b1f9d393"
      },
      "source": [
        "def get_greatest_no(a,b,c):\n",
        "    greatest = 0\n",
        "    if a>b:\n",
        "        if a>c:\n",
        "            greatest = a\n",
        "        else:\n",
        "            greatest = c\n",
        "    elif b>a:\n",
        "        if b>c:\n",
        "            greatest = b   \n",
        "        else:\n",
        "            greatest = c   \n",
        "    else:\n",
        "        greatest = c\n",
        "\n",
        "    return greatest   \n",
        "\n",
        "a = 40\n",
        "b = 20\n",
        "c = 30\n",
        "d = get_greatest_no(a,b,c)\n",
        "\n",
        "print(d,\"is greatest\")"
      ],
      "execution_count": null,
      "outputs": [
        {
          "output_type": "stream",
          "text": [
            "40 is greatest\n"
          ],
          "name": "stdout"
        }
      ]
    },
    {
      "cell_type": "markdown",
      "metadata": {
        "id": "QfyWn-K-ShU-"
      },
      "source": [
        "**passing prameter by name**"
      ]
    },
    {
      "cell_type": "code",
      "metadata": {
        "id": "ccXT9m_LVexq",
        "colab": {
          "base_uri": "https://localhost:8080/",
          "height": 35
        },
        "outputId": "2053f82f-8803-4e21-bef3-6dcc215f6771"
      },
      "source": [
        "def display(name,id):\n",
        "    \n",
        "    print(\"Name: \",name,\" --> ID: \",id)\n",
        "\n",
        "display(name = \"lutful\",id = 20)    "
      ],
      "execution_count": null,
      "outputs": [
        {
          "output_type": "stream",
          "text": [
            "Name:  lutful  --> ID:  20\n"
          ],
          "name": "stdout"
        }
      ]
    },
    {
      "cell_type": "code",
      "metadata": {
        "id": "AbJGbIkAvH_I",
        "colab": {
          "base_uri": "https://localhost:8080/",
          "height": 35
        },
        "outputId": "e5269076-aa19-4fa5-a9d5-b821315d87a2"
      },
      "source": [
        "def display(name,id):\n",
        "    \n",
        "    print(\"Name: \",name,\" --> ID: \",id)\n",
        "\n",
        "display(id = 20,name = \"lutful\")    "
      ],
      "execution_count": null,
      "outputs": [
        {
          "output_type": "stream",
          "text": [
            "Name:  lutful  --> ID:  20\n"
          ],
          "name": "stdout"
        }
      ]
    },
    {
      "cell_type": "code",
      "metadata": {
        "id": "gGPEEi-8vSP0",
        "colab": {
          "base_uri": "https://localhost:8080/",
          "height": 35
        },
        "outputId": "1e012b55-92ba-41dd-81b1-8cf6c06378d3"
      },
      "source": [
        "def display(name,id):\n",
        "    \n",
        "    print(\"Name: \",name,\" --> ID: \",id)\n",
        "\n",
        "display(20,\"lutful\")    "
      ],
      "execution_count": null,
      "outputs": [
        {
          "output_type": "stream",
          "text": [
            "Name:  20  --> ID:  lutful\n"
          ],
          "name": "stdout"
        }
      ]
    },
    {
      "cell_type": "code",
      "metadata": {
        "id": "NiFA21fmvY7f",
        "colab": {
          "base_uri": "https://localhost:8080/",
          "height": 35
        },
        "outputId": "4076d300-325c-45a1-d043-4d75847aadea"
      },
      "source": [
        "def display(name,id):\n",
        "    \n",
        "    print(\"Name: \",name,\" --> ID: \",id)\n",
        "\n",
        "display(\"lutful\",20)    "
      ],
      "execution_count": null,
      "outputs": [
        {
          "output_type": "stream",
          "text": [
            "Name:  lutful  --> ID:  20\n"
          ],
          "name": "stdout"
        }
      ]
    },
    {
      "cell_type": "markdown",
      "metadata": {
        "id": "cBxlj3sd1996"
      },
      "source": [
        "**Forwarding function**"
      ]
    },
    {
      "cell_type": "code",
      "metadata": {
        "id": "3k3JFcPY2EZF",
        "colab": {
          "base_uri": "https://localhost:8080/"
        },
        "outputId": "896e58cd-3cc4-4c3b-ac50-78cda873b3e2"
      },
      "source": [
        "def add(p,q,r):\n",
        "    return p+q+r\n",
        "\n",
        "d1 =  [1000,20,10]\n",
        "s = add(d1[0],d1[1],d1[2])\n",
        "print(s)    \n"
      ],
      "execution_count": null,
      "outputs": [
        {
          "output_type": "stream",
          "text": [
            "1030\n"
          ],
          "name": "stdout"
        }
      ]
    },
    {
      "cell_type": "code",
      "metadata": {
        "id": "LF4rti2C20nQ",
        "colab": {
          "base_uri": "https://localhost:8080/"
        },
        "outputId": "facb640d-1e22-4600-f004-4fc5f0013581"
      },
      "source": [
        "def add(p,q,r):\n",
        "    return p+q+r\n",
        "\n",
        "def add1(q,p,r):\n",
        "    return p+q+r\n",
        "\n",
        "def add2(p,q,r):\n",
        "    return p+q+r\n",
        "\n",
        "d1 =  [1000,20,10]\n",
        "s = add(d1[0],d1[1],d1[2])\n",
        "\n",
        "print(s)  "
      ],
      "execution_count": null,
      "outputs": [
        {
          "output_type": "stream",
          "text": [
            "1030\n"
          ],
          "name": "stdout"
        }
      ]
    },
    {
      "cell_type": "markdown",
      "metadata": {
        "id": "w4VhShpsRXjk"
      },
      "source": [
        "**forwarding function**"
      ]
    },
    {
      "cell_type": "code",
      "metadata": {
        "id": "YVwQATw60JMM",
        "colab": {
          "base_uri": "https://localhost:8080/",
          "height": 34
        },
        "outputId": "a8ffaa13-a4b5-475c-adfc-debdbb06d288"
      },
      "source": [
        "def add(p,q,r):\n",
        "    return p+q+r\n",
        "\n",
        "def add1(q,p,r):\n",
        "    return p+q+r\n",
        "\n",
        "def add2(p,q,r):\n",
        "    return add1(q,p,r)\n",
        "\n",
        "d1 = [1000,20,10]\n",
        "s = add(*d1)\n",
        "print(s)\n",
        "\n",
        "#print(add2(d1))"
      ],
      "execution_count": null,
      "outputs": [
        {
          "output_type": "stream",
          "text": [
            "1030\n"
          ],
          "name": "stdout"
        }
      ]
    },
    {
      "cell_type": "code",
      "metadata": {
        "id": "cI4tuhwXTYjL",
        "colab": {
          "base_uri": "https://localhost:8080/",
          "height": 34
        },
        "outputId": "b66b6ebd-5a24-4f0a-c918-59260b7ec3c7"
      },
      "source": [
        "def add(p,q,r):\n",
        "    return p+q+r\n",
        "\n",
        "def add1(q,p,r):\n",
        "    return p-q+r\n",
        "\n",
        "#forwarding function \n",
        "\n",
        "def add2(p,q,r):\n",
        "    return add1(q,p,r)\n",
        "\n",
        "d1 = [1000,20,10]\n",
        "s = add(*d1)\n",
        "#print(s)\n",
        "\n",
        "print(add1(*d1))"
      ],
      "execution_count": null,
      "outputs": [
        {
          "output_type": "stream",
          "text": [
            "-970\n"
          ],
          "name": "stdout"
        }
      ]
    },
    {
      "cell_type": "markdown",
      "metadata": {
        "id": "bXRg_OrBUu8Q"
      },
      "source": [
        "**While loop**"
      ]
    },
    {
      "cell_type": "code",
      "metadata": {
        "id": "58lNxTd9Uz5N",
        "colab": {
          "base_uri": "https://localhost:8080/",
          "height": 187
        },
        "outputId": "33a2bdf5-3895-453d-abd6-274612c36f74"
      },
      "source": [
        "i = 0\n",
        "\n",
        "while i<10:\n",
        "    print(i)\n",
        "    i = i + 1\n"
      ],
      "execution_count": null,
      "outputs": [
        {
          "output_type": "stream",
          "text": [
            "0\n",
            "1\n",
            "2\n",
            "3\n",
            "4\n",
            "5\n",
            "6\n",
            "7\n",
            "8\n",
            "9\n"
          ],
          "name": "stdout"
        }
      ]
    },
    {
      "cell_type": "markdown",
      "metadata": {
        "id": "j5w2EKHMckXf"
      },
      "source": [
        "**Continue and Brack**"
      ]
    },
    {
      "cell_type": "code",
      "metadata": {
        "id": "B4bxYSzucsoL",
        "colab": {
          "base_uri": "https://localhost:8080/",
          "height": 170
        },
        "outputId": "cba783ce-5cc7-4637-c41e-40a3f15db927"
      },
      "source": [
        "i = 0\n",
        "while i<10:\n",
        "    if i==5:\n",
        "        i = i + 1\n",
        "        continue\n",
        "    print(i)\n",
        "    i = i + 1"
      ],
      "execution_count": null,
      "outputs": [
        {
          "output_type": "stream",
          "text": [
            "0\n",
            "1\n",
            "2\n",
            "3\n",
            "4\n",
            "6\n",
            "7\n",
            "8\n",
            "9\n"
          ],
          "name": "stdout"
        }
      ]
    },
    {
      "cell_type": "code",
      "metadata": {
        "id": "ug_OOoY9dvWb",
        "colab": {
          "base_uri": "https://localhost:8080/",
          "height": 119
        },
        "outputId": "763c44b9-5b4b-4590-f507-464c22289658"
      },
      "source": [
        "i = 0\n",
        "while i<10:\n",
        "    if i==5:\n",
        "        i = i + 1\n",
        "        break\n",
        "    print(i)\n",
        "    i = i + 1\n",
        "print(\"end\")"
      ],
      "execution_count": null,
      "outputs": [
        {
          "output_type": "stream",
          "text": [
            "0\n",
            "1\n",
            "2\n",
            "3\n",
            "4\n",
            "end\n"
          ],
          "name": "stdout"
        }
      ]
    },
    {
      "cell_type": "code",
      "metadata": {
        "id": "bYtY9UmoerKp",
        "colab": {
          "base_uri": "https://localhost:8080/"
        },
        "outputId": "4d51994b-6fe4-496c-eb63-31babb696b8f"
      },
      "source": [
        "i = 0\n",
        "while i<10:\n",
        "    if i==5:\n",
        "        i = i + 1\n",
        "        continue\n",
        "    print(i)\n",
        "    i = i + 1\n",
        "print(\"end\")"
      ],
      "execution_count": null,
      "outputs": [
        {
          "output_type": "stream",
          "text": [
            "0\n",
            "1\n",
            "2\n",
            "3\n",
            "4\n",
            "6\n",
            "7\n",
            "8\n",
            "9\n",
            "end\n"
          ],
          "name": "stdout"
        }
      ]
    },
    {
      "cell_type": "markdown",
      "metadata": {
        "id": "tQHAsqpu_8WC"
      },
      "source": [
        "**FIBONACCI NUMBER**"
      ]
    },
    {
      "cell_type": "code",
      "metadata": {
        "id": "gBy4SF5YABv0",
        "colab": {
          "base_uri": "https://localhost:8080/"
        },
        "outputId": "6f487ee0-dce1-41db-b453-928906ab3c67"
      },
      "source": [
        "def fibonacci (n):\n",
        "    first = 0\n",
        "    second = 1\n",
        "    fibo = 0\n",
        "    print(first)\n",
        "    print(second)\n",
        "\n",
        "    i = 3\n",
        "    while i <= n:\n",
        "        fibo = first + second\n",
        "        print(fibo)\n",
        "        first = second \n",
        "        second = fibo\n",
        "        i = i + 1\n",
        "a = int(input(\"Enter a number: \"))\n",
        "fibonacci (a)"
      ],
      "execution_count": null,
      "outputs": [
        {
          "output_type": "stream",
          "text": [
            "Enter a number: 32\n",
            "0\n",
            "1\n",
            "1\n",
            "2\n",
            "3\n",
            "5\n",
            "8\n",
            "13\n",
            "21\n",
            "34\n",
            "55\n",
            "89\n",
            "144\n",
            "233\n",
            "377\n",
            "610\n",
            "987\n",
            "1597\n",
            "2584\n",
            "4181\n",
            "6765\n",
            "10946\n",
            "17711\n",
            "28657\n",
            "46368\n",
            "75025\n",
            "121393\n",
            "196418\n",
            "317811\n",
            "514229\n",
            "832040\n",
            "1346269\n"
          ],
          "name": "stdout"
        }
      ]
    },
    {
      "cell_type": "markdown",
      "metadata": {
        "id": "C-NO2kN8pL-r"
      },
      "source": [
        "# Function "
      ]
    },
    {
      "cell_type": "code",
      "metadata": {
        "colab": {
          "base_uri": "https://localhost:8080/",
          "height": 389
        },
        "id": "E40g0qtapUmO",
        "outputId": "d921d74e-12f4-4d88-fb9e-641c1d3f7282"
      },
      "source": [
        "def add(a,b):\n",
        "    c = a+b\n",
        "    return c\n",
        "\n",
        "def sub(a,b):\n",
        "    c = a-b         # one houre pagol hoye gesilam ple solved koren\n",
        "    return c\n",
        "\n",
        "a = ('rahat is a cse student+')\n",
        "\n",
        "b = ('student time he is doing work')\n",
        "\n",
        "s = add(a,b)\n",
        "\n",
        "print(\"ADD: \",s)\n",
        "\n",
        "d = sub(a,b)\n",
        "\n",
        "print(\"SUBTRACT: \",d)\n"
      ],
      "execution_count": null,
      "outputs": [
        {
          "output_type": "stream",
          "text": [
            "ADD:  rahat is a cse student+student time he is doing work\n"
          ],
          "name": "stdout"
        },
        {
          "output_type": "error",
          "ename": "TypeError",
          "evalue": "ignored",
          "traceback": [
            "\u001b[0;31m---------------------------------------------------------------------------\u001b[0m",
            "\u001b[0;31mTypeError\u001b[0m                                 Traceback (most recent call last)",
            "\u001b[0;32m<ipython-input-2-b95b5baf772c>\u001b[0m in \u001b[0;36m<module>\u001b[0;34m()\u001b[0m\n\u001b[1;32m     15\u001b[0m \u001b[0mprint\u001b[0m\u001b[0;34m(\u001b[0m\u001b[0;34m\"ADD: \"\u001b[0m\u001b[0;34m,\u001b[0m\u001b[0ms\u001b[0m\u001b[0;34m)\u001b[0m\u001b[0;34m\u001b[0m\u001b[0;34m\u001b[0m\u001b[0m\n\u001b[1;32m     16\u001b[0m \u001b[0;34m\u001b[0m\u001b[0m\n\u001b[0;32m---> 17\u001b[0;31m \u001b[0md\u001b[0m \u001b[0;34m=\u001b[0m \u001b[0msub\u001b[0m\u001b[0;34m(\u001b[0m\u001b[0ma\u001b[0m\u001b[0;34m,\u001b[0m\u001b[0mb\u001b[0m\u001b[0;34m)\u001b[0m\u001b[0;34m\u001b[0m\u001b[0;34m\u001b[0m\u001b[0m\n\u001b[0m\u001b[1;32m     18\u001b[0m \u001b[0;34m\u001b[0m\u001b[0m\n\u001b[1;32m     19\u001b[0m \u001b[0mprint\u001b[0m\u001b[0;34m(\u001b[0m\u001b[0;34m\"SUBTRACT: \"\u001b[0m\u001b[0;34m,\u001b[0m\u001b[0md\u001b[0m\u001b[0;34m)\u001b[0m\u001b[0;34m\u001b[0m\u001b[0;34m\u001b[0m\u001b[0m\n",
            "\u001b[0;32m<ipython-input-2-b95b5baf772c>\u001b[0m in \u001b[0;36msub\u001b[0;34m(a, b)\u001b[0m\n\u001b[1;32m      4\u001b[0m \u001b[0;34m\u001b[0m\u001b[0m\n\u001b[1;32m      5\u001b[0m \u001b[0;32mdef\u001b[0m \u001b[0msub\u001b[0m\u001b[0;34m(\u001b[0m\u001b[0ma\u001b[0m\u001b[0;34m,\u001b[0m\u001b[0mb\u001b[0m\u001b[0;34m)\u001b[0m\u001b[0;34m:\u001b[0m\u001b[0;34m\u001b[0m\u001b[0;34m\u001b[0m\u001b[0m\n\u001b[0;32m----> 6\u001b[0;31m     \u001b[0mc\u001b[0m \u001b[0;34m=\u001b[0m \u001b[0ma\u001b[0m\u001b[0;34m-\u001b[0m\u001b[0mb\u001b[0m         \u001b[0;31m# one houre pagol hoye gesilam ple solved koren\u001b[0m\u001b[0;34m\u001b[0m\u001b[0;34m\u001b[0m\u001b[0m\n\u001b[0m\u001b[1;32m      7\u001b[0m     \u001b[0;32mreturn\u001b[0m \u001b[0mc\u001b[0m\u001b[0;34m\u001b[0m\u001b[0;34m\u001b[0m\u001b[0m\n\u001b[1;32m      8\u001b[0m \u001b[0;34m\u001b[0m\u001b[0m\n",
            "\u001b[0;31mTypeError\u001b[0m: unsupported operand type(s) for -: 'str' and 'str'"
          ]
        }
      ]
    },
    {
      "cell_type": "markdown",
      "metadata": {
        "id": "mpgqnsSRVgRh"
      },
      "source": [
        ""
      ]
    },
    {
      "cell_type": "markdown",
      "metadata": {
        "id": "JSfcVVvikJcd"
      },
      "source": [
        "#*FUNCTION*"
      ]
    },
    {
      "cell_type": "code",
      "metadata": {
        "colab": {
          "base_uri": "https://localhost:8080/"
        },
        "id": "0Q1emwEskOld",
        "outputId": "fe2875b2-2d0d-4ec3-87b0-b80366f541f1"
      },
      "source": [
        "def display(name,id,age):\r\n",
        "    \r\n",
        "    print(\"name: \",name)\r\n",
        "    \r\n",
        "    print(\"ID: \",id)\r\n",
        "\r\n",
        "    print(\"age: \",age)\r\n",
        "\r\n",
        "a = \"salam\"\r\n",
        "\r\n",
        "b = \"01552464940\"\r\n",
        "\r\n",
        "c = 20\r\n",
        "\r\n",
        "display(a,b,c)\r\n",
        "\r\n",
        "d = \"rahim\"\r\n",
        "e = \"0171158983\"\r\n",
        "f = 34\r\n",
        "\r\n",
        "display(d,e,f)\r\n",
        "\r\n",
        "g = \"lutful bari musa want to be a  python developer \\n \"\r\n",
        "\r\n",
        "h = \"he is a good man \\n \"\r\n",
        "\r\n",
        "i = \"age  33 years  \\n \"\r\n",
        "\r\n",
        "display(g,h,i)\r\n"
      ],
      "execution_count": null,
      "outputs": [
        {
          "output_type": "stream",
          "text": [
            "name:  salam\n",
            "ID:  01552464940\n",
            "age:  20\n",
            "name:  rahim\n",
            "ID:  0171158983\n",
            "age:  34\n",
            "name:  lutful bari musa want to be a  python developer \n",
            " \n",
            "ID:  he is a good man \n",
            " \n",
            "age:  age  33 years  \n",
            " \n"
          ],
          "name": "stdout"
        }
      ]
    },
    {
      "cell_type": "markdown",
      "metadata": {
        "id": "HV7C9zikq1__"
      },
      "source": [
        "*function*"
      ]
    },
    {
      "cell_type": "code",
      "metadata": {
        "colab": {
          "base_uri": "https://localhost:8080/"
        },
        "id": "96VJZbNUq56O",
        "outputId": "f7773b4b-9347-49c7-bbe3-c40f3a7ff88c"
      },
      "source": [
        "def add(a,b):\r\n",
        "    c = a+b\r\n",
        "    return c\r\n",
        "def sub(a,b):\r\n",
        "    c = a-b\r\n",
        "    return c\r\n",
        "a = 5 \r\n",
        "b = 8\r\n",
        "\r\n",
        "s = add(a,b)\r\n",
        "\r\n",
        "print(s)\r\n",
        "d =sub(a,b)\r\n",
        "\r\n",
        "print(d)"
      ],
      "execution_count": null,
      "outputs": [
        {
          "output_type": "stream",
          "text": [
            "13\n",
            "-3\n"
          ],
          "name": "stdout"
        }
      ]
    },
    {
      "cell_type": "markdown",
      "metadata": {
        "id": "WDvgv9d7sNOf"
      },
      "source": [
        "*Paramater*"
      ]
    },
    {
      "cell_type": "code",
      "metadata": {
        "colab": {
          "base_uri": "https://localhost:8080/"
        },
        "id": "1Qzjmh_AsSbZ",
        "outputId": "b68b8c9a-7195-44ce-f4d5-e91a1321a69b"
      },
      "source": [
        "def display(name,id,age):\r\n",
        "    print(\"Name: \",name,\"----------->Id: \",id,\"---------->Age: \",age)\r\n",
        "  \r\n",
        "\r\n",
        "\r\n",
        "a = \"Salam\"\r\n",
        "\r\n",
        "b = \"01552464940\"\r\n",
        "\r\n",
        "c = 30\r\n",
        "display(a,b,c)\r\n",
        "d = \"lutful\"\r\n",
        "\r\n",
        "e = \"01552464940\"\r\n",
        "\r\n",
        "f = 30\r\n",
        "\r\n",
        "display(d,e,f)\r\n",
        "g = \"musa\"\r\n",
        "\r\n",
        "h = \"015\"\r\n",
        "\r\n",
        "i = 29\r\n",
        "\r\n",
        "display(g,h,i)"
      ],
      "execution_count": null,
      "outputs": [
        {
          "output_type": "stream",
          "text": [
            "Name:  Salam ----------->Id:  01552464940 ---------->Age:  30\n",
            "Name:  lutful ----------->Id:  01552464940 ---------->Age:  30\n",
            "Name:  musa ----------->Id:  015 ---------->Age:  29\n"
          ],
          "name": "stdout"
        }
      ]
    },
    {
      "cell_type": "markdown",
      "metadata": {
        "id": "9oNjiFGBvtxY"
      },
      "source": [
        ""
      ]
    },
    {
      "cell_type": "markdown",
      "metadata": {
        "id": "wganJpD7vxiA"
      },
      "source": [
        "*function dobul* gratest\r\n"
      ]
    },
    {
      "cell_type": "code",
      "metadata": {
        "colab": {
          "base_uri": "https://localhost:8080/"
        },
        "id": "6qaUT3mGwgOl",
        "outputId": "ad7dbd80-fd41-4909-9efe-e4e92b2e3fe8"
      },
      "source": [
        "def get_greatest_no(a,b,c):\r\n",
        "    greatest = 0\r\n",
        "    if a>b:\r\n",
        "        if a>c:\r\n",
        "            greatest = a\r\n",
        "           #print(a,\"is greatest\")\r\n",
        "        else:\r\n",
        "           #print(c,\"is greatest\")\r\n",
        "             greatest = c\r\n",
        "    elif b>a:\r\n",
        "        if b>c:\r\n",
        "            greatest = b\r\n",
        "            #print(b,\"is greatest\")\r\n",
        "        else:\r\n",
        "            greatest = c\r\n",
        "            #print(c,\"is greatest\")\r\n",
        "    else:\r\n",
        "         greatest = c\r\n",
        "    return greatest\r\n",
        "\r\n",
        "a = 40\r\n",
        "b = 20\r\n",
        "c = 30\r\n",
        "d = get_greatest_no(a,b,c)\r\n",
        "print(d,\"is greatest\")"
      ],
      "execution_count": null,
      "outputs": [
        {
          "output_type": "stream",
          "text": [
            "40 is greatest\n"
          ],
          "name": "stdout"
        }
      ]
    },
    {
      "cell_type": "markdown",
      "metadata": {
        "id": "26WeCZ--9JlD"
      },
      "source": [
        "***function passing parameter by name***\r\n"
      ]
    },
    {
      "cell_type": "code",
      "metadata": {
        "colab": {
          "base_uri": "https://localhost:8080/"
        },
        "id": "6trV_M-s9b1d",
        "outputId": "22a4a88f-5e80-42b1-de42-fa65933880c6"
      },
      "source": [
        "def display(name,id):\r\n",
        "    print(\"Name: \",name,\"---->Id: \",id)\r\n",
        "#display(name = \"Rahim\", id = 20)\r\n",
        "display(id = 20,name = \"Rahim\")"
      ],
      "execution_count": null,
      "outputs": [
        {
          "output_type": "stream",
          "text": [
            "Name:  Rahim ---->Id:  20\n"
          ],
          "name": "stdout"
        }
      ]
    },
    {
      "cell_type": "markdown",
      "metadata": {
        "id": "iKBJ2qZIOAhu"
      },
      "source": [
        "*function forwarding*"
      ]
    },
    {
      "cell_type": "code",
      "metadata": {
        "colab": {
          "base_uri": "https://localhost:8080/"
        },
        "id": "dpKqurhGOHiH",
        "outputId": "122c56a4-35ca-473e-96c9-6c745de8ba30"
      },
      "source": [
        "def add(p,q,r):\r\n",
        "    return p-q+r\r\n",
        "\r\n",
        "def add1(q,p,r):\r\n",
        "    return p-q+r\r\n",
        "# forwarding function    \r\n",
        "def add2(p,q,r):\r\n",
        "    return add1(q,p,r)\r\n",
        "\r\n",
        "\r\n",
        "d1 = [1000,20,10]\r\n",
        "#s = add(d1[0],d1[1],d1[2])\r\n",
        "s = add(d1[0],d1[1],d1[2])\r\n",
        "#print(s)\r\n",
        "\r\n",
        "print(add2(*d1))\r\n"
      ],
      "execution_count": null,
      "outputs": [
        {
          "output_type": "stream",
          "text": [
            "990\n"
          ],
          "name": "stdout"
        }
      ]
    },
    {
      "cell_type": "markdown",
      "metadata": {
        "id": "rL3GbS4EQqkQ"
      },
      "source": [
        "*while loop*"
      ]
    },
    {
      "cell_type": "code",
      "metadata": {
        "colab": {
          "base_uri": "https://localhost:8080/"
        },
        "id": "ybm08D0AQuak",
        "outputId": "2c12449e-076b-464d-ce42-9c8bfbb33fa1"
      },
      "source": [
        "i = 0\r\n",
        "while i<10:\r\n",
        "    print(i)\r\n",
        "    i = i + 1    "
      ],
      "execution_count": null,
      "outputs": [
        {
          "output_type": "stream",
          "text": [
            "0\n",
            "1\n",
            "2\n",
            "3\n",
            "4\n",
            "5\n",
            "6\n",
            "7\n",
            "8\n",
            "9\n"
          ],
          "name": "stdout"
        }
      ]
    },
    {
      "cell_type": "markdown",
      "metadata": {
        "id": "aTJaWbsUSmR4"
      },
      "source": [
        "while looop continue and loop\r\n",
        "***italicized text***"
      ]
    },
    {
      "cell_type": "code",
      "metadata": {
        "colab": {
          "base_uri": "https://localhost:8080/"
        },
        "id": "CmTDGNwzStWB",
        "outputId": "ffe8b427-9eb3-4718-b718-77f561a68b5a"
      },
      "source": [
        "i = 0\r\n",
        "while i < 10:\r\n",
        "    if i == 5:\r\n",
        "        i = i+1\r\n",
        "        continue\r\n",
        "       #break\r\n",
        "    print(i)\r\n",
        "    i = i + 1\r\n",
        "print(\"END\")"
      ],
      "execution_count": null,
      "outputs": [
        {
          "output_type": "stream",
          "text": [
            "0\n",
            "1\n",
            "2\n",
            "3\n",
            "4\n",
            "6\n",
            "7\n",
            "8\n",
            "9\n",
            "END\n"
          ],
          "name": "stdout"
        }
      ]
    },
    {
      "cell_type": "markdown",
      "metadata": {
        "id": "3_VJFkqCVREv"
      },
      "source": [
        "*print nth fibonacci number*"
      ]
    },
    {
      "cell_type": "code",
      "metadata": {
        "colab": {
          "base_uri": "https://localhost:8080/"
        },
        "id": "han_32rjVZXE",
        "outputId": "9babab99-1b26-4932-b8f6-3efba2766e02"
      },
      "source": [
        "def fibonacci(n):\r\n",
        "    first = 0\r\n",
        "    second = 1 \r\n",
        "    fibo = 0\r\n",
        "\r\n",
        "    print(first)\r\n",
        "    print(second)\r\n",
        "\r\n",
        "\r\n",
        "    i = 3\r\n",
        "    while i <= n:\r\n",
        "        fibo = first + second\r\n",
        "        print(fibo)\r\n",
        "\r\n",
        "        first = second\r\n",
        "        second = fibo\r\n",
        "        i = i + 1\r\n",
        "a = int(input(\"enter a number: \"))\r\n",
        "fibonacci(a)"
      ],
      "execution_count": null,
      "outputs": [
        {
          "output_type": "stream",
          "text": [
            "enter a number: 8\n",
            "0\n",
            "1\n",
            "1\n",
            "2\n",
            "3\n",
            "5\n",
            "8\n",
            "13\n"
          ],
          "name": "stdout"
        }
      ]
    },
    {
      "cell_type": "markdown",
      "metadata": {
        "id": "A_e75TLAjnb2"
      },
      "source": [
        "*list *"
      ]
    },
    {
      "cell_type": "code",
      "metadata": {
        "colab": {
          "base_uri": "https://localhost:8080/",
          "height": 229
        },
        "id": "O0DXGKvwjqaI",
        "outputId": "7eec21d5-8d46-4df1-9a8b-27f5bdb0db30"
      },
      "source": [
        "\"\"\"p = [1,2,3,4,5,6,7,8,9,]\r\n",
        "print(len(p))\r\n",
        "p = [1,2,3]\r\n",
        "print(len(p))\"\"\"\"\"\"\r\n",
        "p = [1,2,3]\r\n",
        "print(p[2])\r\n",
        "p = [1,2,3,\"DOG\",\"CAT\"]\r\n",
        "print(p[3:5])\"\"\"\r\n",
        "\r\n",
        "P = [\"DOG\",\"CAT\",\"cow\",\"goat\",\"hot\",\"fish\",]\r\n",
        "q = [1,2,3,4,5]\r\n",
        "#Print(\"lenght of p: \",len(p))\r\n",
        "#print(p[3],p[2])\r\n",
        "i = 0\r\n",
        "while i<5:\r\n",
        "    print(p([i]),q[i])\r\n",
        "\r\n",
        "'''n = len(p)\r\n",
        "print(p[4],p[n-2])\r\n",
        "print(p[4],p[n-1])\r\n",
        "'''"
      ],
      "execution_count": null,
      "outputs": [
        {
          "output_type": "error",
          "ename": "TypeError",
          "evalue": "ignored",
          "traceback": [
            "\u001b[0;31m---------------------------------------------------------------------------\u001b[0m",
            "\u001b[0;31mTypeError\u001b[0m                                 Traceback (most recent call last)",
            "\u001b[0;32m<ipython-input-50-cc29858e5546>\u001b[0m in \u001b[0;36m<module>\u001b[0;34m()\u001b[0m\n\u001b[1;32m     14\u001b[0m \u001b[0mi\u001b[0m \u001b[0;34m=\u001b[0m \u001b[0;36m0\u001b[0m\u001b[0;34m\u001b[0m\u001b[0;34m\u001b[0m\u001b[0m\n\u001b[1;32m     15\u001b[0m \u001b[0;32mwhile\u001b[0m \u001b[0mi\u001b[0m\u001b[0;34m<\u001b[0m\u001b[0;36m5\u001b[0m\u001b[0;34m:\u001b[0m\u001b[0;34m\u001b[0m\u001b[0;34m\u001b[0m\u001b[0m\n\u001b[0;32m---> 16\u001b[0;31m     \u001b[0mprint\u001b[0m\u001b[0;34m(\u001b[0m\u001b[0mp\u001b[0m\u001b[0;34m(\u001b[0m\u001b[0;34m[\u001b[0m\u001b[0mi\u001b[0m\u001b[0;34m]\u001b[0m\u001b[0;34m)\u001b[0m\u001b[0;34m,\u001b[0m\u001b[0mq\u001b[0m\u001b[0;34m[\u001b[0m\u001b[0mi\u001b[0m\u001b[0;34m]\u001b[0m\u001b[0;34m)\u001b[0m\u001b[0;34m\u001b[0m\u001b[0;34m\u001b[0m\u001b[0m\n\u001b[0m\u001b[1;32m     17\u001b[0m \u001b[0;34m\u001b[0m\u001b[0m\n\u001b[1;32m     18\u001b[0m '''n = len(p)\n",
            "\u001b[0;31mTypeError\u001b[0m: 'list' object is not callable"
          ]
        }
      ]
    },
    {
      "cell_type": "markdown",
      "metadata": {
        "id": "3YqVwZ82J9PP"
      },
      "source": [
        "***list2***"
      ]
    },
    {
      "cell_type": "code",
      "metadata": {
        "id": "TaT6YM3gKGFH"
      },
      "source": [
        ""
      ],
      "execution_count": null,
      "outputs": []
    },
    {
      "cell_type": "code",
      "metadata": {
        "colab": {
          "base_uri": "https://localhost:8080/"
        },
        "id": "5l1Oe7dKoN3d",
        "outputId": "a4a3a355-1a8a-43a8-a4b3-f300b6e0ba91"
      },
      "source": [
        "P = [\"Dog\",\"Cat\",\"cow\",\"monkey\"]\r\n",
        "q = [1,2,3,4,5]\r\n",
        "i = 0\r\n",
        "while i<5:\r\n",
        " \r\n",
        "    print(p[i],q[i])\r\n",
        "    i = i + 1"
      ],
      "execution_count": null,
      "outputs": [
        {
          "output_type": "stream",
          "text": [
            "1 1\n",
            "2 2\n",
            "3 3\n",
            "DOG 4\n",
            "CAT 5\n"
          ],
          "name": "stdout"
        }
      ]
    },
    {
      "cell_type": "markdown",
      "metadata": {
        "id": "L9Z8WRoPKX4U"
      },
      "source": [
        "link list is a container data stracture\r\n"
      ]
    },
    {
      "cell_type": "code",
      "metadata": {
        "colab": {
          "base_uri": "https://localhost:8080/"
        },
        "id": "a-yFyt3PKctn",
        "outputId": "33810ba7-0d3c-4a18-e9a1-6ffc20daa747"
      },
      "source": [
        "p = [\"dog\",\"cat\",\"cow\",\"rat\",\"monkey\"]\r\n",
        "#print(\"lenght of p: \",len(p))\r\n",
        "'''n = len(p)\r\n",
        "print(p[3],p[-2])\r\n",
        "print(p[4],p[-1])'''\r\n",
        "\r\n",
        "q = [1,2,3,4,5]\r\n",
        "\r\n",
        "i = 0\r\n",
        "while i<5:\r\n",
        "    print(p[i],q[i])\r\n",
        "    i = i + 1"
      ],
      "execution_count": null,
      "outputs": [
        {
          "output_type": "stream",
          "text": [
            "dog 1\n",
            "cat 2\n",
            "cow 3\n",
            "rat 4\n",
            "monkey 5\n"
          ],
          "name": "stdout"
        }
      ]
    },
    {
      "cell_type": "code",
      "metadata": {
        "colab": {
          "base_uri": "https://localhost:8080/",
          "height": 52
        },
        "id": "nvGt-bgtNmM9",
        "outputId": "bc2ac234-9ac9-41ff-b350-14ba54191543"
      },
      "source": [
        "\"\"\"p = [\"dog\",\"cat\",\"cow\",\"rat\",\"monkey\"]\r\n",
        "#print(\"lenght of p: \",len(p))\r\n",
        "'''n = len(p)\r\n",
        "print(p[3],p[-2])\r\n",
        "print(p[4],p[-1])'''\r\n",
        "\r\n",
        "q = [1,2,3,4,5]\r\n",
        "\r\n",
        "i = 0\r\n",
        "while i<5:\r\n",
        "    print(p[i],q[i])\"\"\""
      ],
      "execution_count": null,
      "outputs": [
        {
          "output_type": "execute_result",
          "data": {
            "application/vnd.google.colaboratory.intrinsic+json": {
              "type": "string"
            },
            "text/plain": [
              "'p = [\"dog\",\"cat\",\"cow\",\"rat\",\"monkey\"]\\n#print(\"lenght of p: \",len(p))\\n\\'\\'\\'n = len(p)\\nprint(p[3],p[-2])\\nprint(p[4],p[-1])\\'\\'\\'\\n\\nq = [1,2,3,4,5]\\n\\ni = 0\\nwhile i<5:\\n    print(p[i],q[i])'"
            ]
          },
          "metadata": {
            "tags": []
          },
          "execution_count": 43
        }
      ]
    },
    {
      "cell_type": "markdown",
      "metadata": {
        "id": "0_zlf_y9Nwaf"
      },
      "source": [
        "*list -----method*"
      ]
    },
    {
      "cell_type": "code",
      "metadata": {
        "colab": {
          "base_uri": "https://localhost:8080/"
        },
        "id": "TVs7L5hiN1PI",
        "outputId": "1d37e244-018e-4a49-c6cc-ee477b61173c"
      },
      "source": [
        "# list \r\n",
        "p = [\"mango\",\"apple\",\"banana\",\"orange\",]\r\n",
        "\r\n",
        "#p.append(\"cow\") # add element\r\n",
        "#p.remove(\"banana\") # removed element\r\n",
        "#p[1] = \"Jackfruit\" # change element\r\n",
        "del p[2] # change element\r\n",
        "p.append(20)\r\n",
        "print(p)\r\n"
      ],
      "execution_count": null,
      "outputs": [
        {
          "output_type": "stream",
          "text": [
            "['mango', 'apple', 'orange', 20]\n"
          ],
          "name": "stdout"
        }
      ]
    },
    {
      "cell_type": "markdown",
      "metadata": {
        "id": "7aghf8QbQ9aj"
      },
      "source": [
        "*python list ++++++concanate*"
      ]
    },
    {
      "cell_type": "code",
      "metadata": {
        "colab": {
          "base_uri": "https://localhost:8080/"
        },
        "id": "Etqpks4jRNHr",
        "outputId": "bb176da3-89a0-4b9b-860c-ddf29772e5c0"
      },
      "source": [
        "p = [1,2,3]\r\n",
        "#q = [4]\r\n",
        "#q = []\r\n",
        "#r = 10 # a number\r\n",
        "#r = \"man\"\r\n",
        "#q = [4,5,6]\r\n",
        "#print(p+q)\r\n",
        "q = [20]\r\n",
        "print(p+q)"
      ],
      "execution_count": null,
      "outputs": [
        {
          "output_type": "stream",
          "text": [
            "[1, 2, 3, 20]\n"
          ],
          "name": "stdout"
        }
      ]
    },
    {
      "cell_type": "markdown",
      "metadata": {
        "id": "Qp_mVvWFSRVE"
      },
      "source": [
        "*list repitition*"
      ]
    },
    {
      "cell_type": "code",
      "metadata": {
        "colab": {
          "base_uri": "https://localhost:8080/"
        },
        "id": "i24YIvUMSZ1p",
        "outputId": "a3f6c930-75f7-45a9-c3a5-676496c362dc"
      },
      "source": [
        "p = [1,2,3,4,]\r\n",
        "print(p * 2)\r\n",
        "print(p * 0)\r\n",
        "print(p * 4)\r\n",
        "print(len(p * 4))\r\n",
        "print(len(p * 4),len(p*1),len(p*3))"
      ],
      "execution_count": null,
      "outputs": [
        {
          "output_type": "stream",
          "text": [
            "[1, 2, 3, 4, 1, 2, 3, 4]\n",
            "[]\n",
            "[1, 2, 3, 4, 1, 2, 3, 4, 1, 2, 3, 4, 1, 2, 3, 4]\n",
            "16\n",
            "16 4 12\n"
          ],
          "name": "stdout"
        }
      ]
    },
    {
      "cell_type": "markdown",
      "metadata": {
        "id": "LUqyXCEwTWlw"
      },
      "source": [
        "*list in operatioon*"
      ]
    },
    {
      "cell_type": "code",
      "metadata": {
        "colab": {
          "base_uri": "https://localhost:8080/"
        },
        "id": "zHlxoYVZTcCa",
        "outputId": "43f93b57-19db-44fa-aac5-a785bbe4e6d9"
      },
      "source": [
        "p = [\"apple\",\"orange\",\"banana\",\"pineapple\"]\r\n",
        "#print(\"apple\" in p)\r\n",
        "#print(\"Apple\" in p)\r\n",
        "#print(\"quava\" in p)\r\n",
        "\r\n",
        "\r\n",
        "print(\"apple\" in p)\r\n",
        "\r\n",
        "\r\n",
        "if \"apple\" in p:\r\n",
        "    print(\"TRUE\")\r\n",
        "else:\r\n",
        "    print(\"FALSE\")\r\n",
        "\r\n",
        "print(\"man\" in p)\r\n",
        "\r\n",
        "if \"man\" in p:\r\n",
        "    print(\"TRUE\")\r\n",
        "else:\r\n",
        "    print(\"FALSE\")"
      ],
      "execution_count": null,
      "outputs": [
        {
          "output_type": "stream",
          "text": [
            "True\n",
            "TRUE\n",
            "False\n",
            "FALSE\n"
          ],
          "name": "stdout"
        }
      ]
    },
    {
      "cell_type": "markdown",
      "metadata": {
        "id": "_ZDDwaGQVDEU"
      },
      "source": [
        "*Bubbleshort*"
      ]
    },
    {
      "cell_type": "code",
      "metadata": {
        "colab": {
          "base_uri": "https://localhost:8080/"
        },
        "id": "PlmpP4ZUVH0d",
        "outputId": "587e24ca-f026-445d-8442-84cd00ec0047"
      },
      "source": [
        "p = [8,2,4,1]\r\n",
        "\r\n",
        "print(\"Before shorting: \",p)\r\n",
        "\r\n",
        "#p = [8,2,4,1]\r\n",
        "i = 0\r\n",
        "while i <len(p):\r\n",
        "    j = 0\r\n",
        "    while j <i:\r\n",
        "        if p[i] < p [j]:\r\n",
        "            temp = p [i]\r\n",
        "            p[i] = p [j]\r\n",
        "            p[j] = temp\r\n",
        "        j = j + 1\r\n",
        "    i = i + 1\r\n",
        "print(\"After Shorting: \",p)"
      ],
      "execution_count": null,
      "outputs": [
        {
          "output_type": "stream",
          "text": [
            "Before shorting:  [8, 2, 4, 1]\n",
            "After Shorting:  [1, 2, 4, 8]\n"
          ],
          "name": "stdout"
        }
      ]
    },
    {
      "cell_type": "markdown",
      "metadata": {
        "id": "B_Io1Qu5dFle"
      },
      "source": [
        "*For loop index*"
      ]
    },
    {
      "cell_type": "code",
      "metadata": {
        "colab": {
          "base_uri": "https://localhost:8080/"
        },
        "id": "lfD8wT4UdKA_",
        "outputId": "3a6f1471-f78d-420f-b554-c1290989acfb"
      },
      "source": [
        "p =[1,2,3,4,5]\r\n",
        "\r\n",
        "for i in p:  # for loop creats a scope which executes multiple times\r\n",
        "    print(i)\r\n",
        "q = [ \"apple\",\"banana\",\"pineapple\",\"orange\"] \r\n",
        "for i in  q:\r\n",
        "    print(i)"
      ],
      "execution_count": null,
      "outputs": [
        {
          "output_type": "stream",
          "text": [
            "1\n",
            "2\n",
            "3\n",
            "4\n",
            "5\n",
            "apple\n",
            "banana\n",
            "pineapple\n",
            "orange\n"
          ],
          "name": "stdout"
        }
      ]
    },
    {
      "cell_type": "markdown",
      "metadata": {
        "id": "UEb4LGJPeIzZ"
      },
      "source": [
        "for loop number lot fofff"
      ]
    },
    {
      "cell_type": "code",
      "metadata": {
        "colab": {
          "base_uri": "https://localhost:8080/"
        },
        "id": "AVYjL6k8eNd2",
        "outputId": "c3f87852-4649-413f-e51b-fa07528c728b"
      },
      "source": [
        "p =[1,2,3,4,5]  # 1+2+3+4+5+ = 15\r\n",
        "s = 0\r\n",
        "for i in p:  # for loop creats a scope which executes multiple times\r\n",
        "    s = s + 1\r\n",
        "    print(\"sum of elements: \",s)\r\n",
        "\r\n",
        "q = [\"apple\",\"banana\",\"pineapple\",\"orange\"] \r\n",
        "\r\n",
        "c = ''\r\n",
        "for i in q:\r\n",
        "   c = c + i\r\n",
        "print(\"Concanate of fruite: \",c)"
      ],
      "execution_count": null,
      "outputs": [
        {
          "output_type": "stream",
          "text": [
            "sum of elements:  1\n",
            "sum of elements:  2\n",
            "sum of elements:  3\n",
            "sum of elements:  4\n",
            "sum of elements:  5\n",
            "Concanate of fruite:  applebananapineappleorange\n"
          ],
          "name": "stdout"
        }
      ]
    },
    {
      "cell_type": "markdown",
      "metadata": {
        "id": "RM95qDIIypyy"
      },
      "source": [
        "*forloop  nested forloop*"
      ]
    },
    {
      "cell_type": "code",
      "metadata": {
        "colab": {
          "base_uri": "https://localhost:8080/"
        },
        "id": "AI1LcGuPy13N",
        "outputId": "55411a85-1c42-44d9-ebfa-a1bf023a8419"
      },
      "source": [
        "p = [1,2,3,4]\r\n",
        "q = [\"apple\",\"orange\",\"pinaapple\",\"grapes\"]\r\n",
        "for i in p:\r\n",
        "    for j in q:\r\n",
        "        print(i,j)"
      ],
      "execution_count": null,
      "outputs": [
        {
          "output_type": "stream",
          "text": [
            "1 apple\n",
            "1 orange\n",
            "1 pinaapple\n",
            "1 grapes\n",
            "2 apple\n",
            "2 orange\n",
            "2 pinaapple\n",
            "2 grapes\n",
            "3 apple\n",
            "3 orange\n",
            "3 pinaapple\n",
            "3 grapes\n",
            "4 apple\n",
            "4 orange\n",
            "4 pinaapple\n",
            "4 grapes\n"
          ],
          "name": "stdout"
        }
      ]
    },
    {
      "cell_type": "markdown",
      "metadata": {
        "id": "UhwQ7Cmwz3wq"
      },
      "source": [
        "for loop index"
      ]
    },
    {
      "cell_type": "code",
      "metadata": {
        "colab": {
          "base_uri": "https://localhost:8080/"
        },
        "id": "Mc4vCeYnz-B4",
        "outputId": "323d67c6-2b61-4ac8-8941-bcbeb9ed1d46"
      },
      "source": [
        "p =[1,2,3,4,5]\r\n",
        "\r\n",
        "i = 0\r\n",
        "while i<len(p):\r\n",
        "    print(p[i])\r\n",
        "    i = i + 1\r\n",
        "print(\"For Loop: \",)\r\n",
        "    \r\n",
        "for i in range(0,len(p)):    #lenght =(o,5)->(0,1,2,3,4) \r\n",
        " print(p[i])   \r\n",
        "    "
      ],
      "execution_count": null,
      "outputs": [
        {
          "output_type": "stream",
          "text": [
            "1\n",
            "2\n",
            "3\n",
            "4\n",
            "5\n",
            "For Loop: \n",
            "1\n",
            "2\n",
            "3\n",
            "4\n",
            "5\n"
          ],
          "name": "stdout"
        }
      ]
    },
    {
      "cell_type": "markdown",
      "metadata": {
        "id": "0D6ThZzz1pD1"
      },
      "source": [
        "*for loop brack statement*"
      ]
    },
    {
      "cell_type": "code",
      "metadata": {
        "colab": {
          "base_uri": "https://localhost:8080/",
          "height": 265
        },
        "id": "W86v65HM1vsc",
        "outputId": "b774936f-8724-499d-f87b-bbce125c045c"
      },
      "source": [
        "p =[1,2,3,4,5]\r\n",
        "\r\n",
        "for i in p:\r\n",
        "    if i == 4:\r\n",
        "        brack;\r\n",
        "    print(i)"
      ],
      "execution_count": null,
      "outputs": [
        {
          "output_type": "stream",
          "text": [
            "1\n",
            "2\n",
            "3\n"
          ],
          "name": "stdout"
        },
        {
          "output_type": "error",
          "ename": "NameError",
          "evalue": "ignored",
          "traceback": [
            "\u001b[0;31m---------------------------------------------------------------------------\u001b[0m",
            "\u001b[0;31mNameError\u001b[0m                                 Traceback (most recent call last)",
            "\u001b[0;32m<ipython-input-64-b2ad867ca19e>\u001b[0m in \u001b[0;36m<module>\u001b[0;34m()\u001b[0m\n\u001b[1;32m      3\u001b[0m \u001b[0;32mfor\u001b[0m \u001b[0mi\u001b[0m \u001b[0;32min\u001b[0m \u001b[0mp\u001b[0m\u001b[0;34m:\u001b[0m\u001b[0;34m\u001b[0m\u001b[0;34m\u001b[0m\u001b[0m\n\u001b[1;32m      4\u001b[0m     \u001b[0;32mif\u001b[0m \u001b[0mi\u001b[0m \u001b[0;34m==\u001b[0m \u001b[0;36m4\u001b[0m\u001b[0;34m:\u001b[0m\u001b[0;34m\u001b[0m\u001b[0;34m\u001b[0m\u001b[0m\n\u001b[0;32m----> 5\u001b[0;31m         \u001b[0mbrack\u001b[0m\u001b[0;34m;\u001b[0m\u001b[0;34m\u001b[0m\u001b[0;34m\u001b[0m\u001b[0m\n\u001b[0m\u001b[1;32m      6\u001b[0m     \u001b[0mprint\u001b[0m\u001b[0;34m(\u001b[0m\u001b[0mi\u001b[0m\u001b[0;34m)\u001b[0m\u001b[0;34m\u001b[0m\u001b[0;34m\u001b[0m\u001b[0m\n",
            "\u001b[0;31mNameError\u001b[0m: name 'brack' is not defined"
          ]
        }
      ]
    },
    {
      "cell_type": "markdown",
      "metadata": {
        "id": "UrvkZ-342hZs"
      },
      "source": [
        "*continue statement*"
      ]
    },
    {
      "cell_type": "code",
      "metadata": {
        "colab": {
          "base_uri": "https://localhost:8080/"
        },
        "id": "-Onp5C_v2m30",
        "outputId": "9ff941c0-f4c3-4b5e-9521-34c516b7ce68"
      },
      "source": [
        "p =[1,2,3,4,5,12,6,7]\r\n",
        "\r\n",
        "def continu(list):\r\n",
        "    for i in list:\r\n",
        "        if i < 10:\r\n",
        "            continue\r\n",
        "        return i;\r\n",
        "\r\n",
        "print(continu(p))"
      ],
      "execution_count": null,
      "outputs": [
        {
          "output_type": "stream",
          "text": [
            "12\n"
          ],
          "name": "stdout"
        }
      ]
    },
    {
      "cell_type": "markdown",
      "metadata": {
        "id": "ef5f-KK-SQQP"
      },
      "source": [
        "*Dictonary is a key value paairs*"
      ]
    },
    {
      "cell_type": "code",
      "metadata": {
        "colab": {
          "base_uri": "https://localhost:8080/"
        },
        "id": "JldWWTlUSXF9",
        "outputId": "b65e02ee-32d1-4f47-817d-94107307bab6"
      },
      "source": [
        "p  = {'apple':4,'banana':9,'orange':12,'paineapple':20,}\r\n",
        "print(p['apple']) # index\r\n",
        "print(p['orange']) # index\r\n",
        "print(p) # index"
      ],
      "execution_count": null,
      "outputs": [
        {
          "output_type": "stream",
          "text": [
            "4\n",
            "12\n",
            "{'apple': 4, 'banana': 9, 'orange': 12, 'paineapple': 20}\n"
          ],
          "name": "stdout"
        }
      ]
    },
    {
      "cell_type": "markdown",
      "metadata": {
        "id": "A4jm7h7OTzca"
      },
      "source": [
        "Dictonary "
      ]
    },
    {
      "cell_type": "code",
      "metadata": {
        "colab": {
          "base_uri": "https://localhost:8080/"
        },
        "id": "vmoX0xilT6rN",
        "outputId": "e47b0260-e889-4cd7-daf3-842c7a5c2d12"
      },
      "source": [
        "p  = {'apple':4,'banana':9,'orange':20,'paineapple':15,}\r\n",
        "for i,j in p.items():\r\n",
        "    print(i,j)\r\n",
        "\r\n",
        "print(p['apple'],p['orange'])\r\n"
      ],
      "execution_count": null,
      "outputs": [
        {
          "output_type": "stream",
          "text": [
            "apple 4\n",
            "banana 9\n",
            "orange 20\n",
            "paineapple 15\n"
          ],
          "name": "stdout"
        }
      ]
    },
    {
      "cell_type": "markdown",
      "metadata": {
        "id": "2Ge3VW6PU5WH"
      },
      "source": [
        "*Recursion*   Factorial(n) =1828384858...n \r\n",
        "Factorial(1) = 1\r\n",
        "Factorial(2) = 2\r\n",
        "Factorial(n) = n*Factorial(n-1)  = n "
      ]
    },
    {
      "cell_type": "code",
      "metadata": {
        "colab": {
          "base_uri": "https://localhost:8080/"
        },
        "id": "GGd_qWi_VH-f",
        "outputId": "319a6eef-9ec4-4ce8-d27a-e443bb2c5f04"
      },
      "source": [
        "def factorial(n):\r\n",
        "    if n == 1:\r\n",
        "        return 1\r\n",
        "    else:\r\n",
        "        return n * factorial(n-1)\r\n",
        "print(factorial(1))"
      ],
      "execution_count": null,
      "outputs": [
        {
          "output_type": "stream",
          "text": [
            "1\n"
          ],
          "name": "stdout"
        }
      ]
    },
    {
      "cell_type": "markdown",
      "metadata": {
        "id": "GoGmGfylXa_k"
      },
      "source": [
        "*factorial*  # *1*2*3*4*5*6...n # 4**::::4*3*2*1=24"
      ]
    },
    {
      "cell_type": "code",
      "metadata": {
        "colab": {
          "base_uri": "https://localhost:8080/"
        },
        "id": "AeQEskwrXjJi",
        "outputId": "d7d377d4-a798-4a5f-b6fc-649cab013e03"
      },
      "source": [
        "n = int(input(\"Enter a number:\"))\r\n",
        "\r\n",
        "fact = 1\r\n",
        "\r\n",
        "while n>1:\r\n",
        "    fact = fact * n\r\n",
        "    n = n - 1\r\n",
        "print(\"Factorial: \",fact)"
      ],
      "execution_count": null,
      "outputs": [
        {
          "output_type": "stream",
          "text": [
            "Enter a number:4\n",
            "Factorial:  24\n"
          ],
          "name": "stdout"
        }
      ]
    },
    {
      "cell_type": "markdown",
      "metadata": {
        "id": "lGFFyFAuUZaT"
      },
      "source": [
        "*Import*"
      ]
    },
    {
      "cell_type": "code",
      "metadata": {
        "id": "mKn0k3WdUcCx",
        "colab": {
          "base_uri": "https://localhost:8080/"
        },
        "outputId": "142baef3-d1ca-42fc-b83f-1be904a6ad71"
      },
      "source": [
        "import math \r\n",
        "#print(math.pi)\r\n",
        "#print(math.sin(1))\r\n",
        "#print(int(math.sin(math.pi/2)))\r\n",
        "print(math.sin(math.pi/2))\r\n"
      ],
      "execution_count": null,
      "outputs": [
        {
          "output_type": "stream",
          "text": [
            "1.0\n"
          ],
          "name": "stdout"
        }
      ]
    },
    {
      "cell_type": "markdown",
      "metadata": {
        "id": "9ke9N-gJg7wY"
      },
      "source": [
        "*sqrare root*"
      ]
    },
    {
      "cell_type": "code",
      "metadata": {
        "colab": {
          "base_uri": "https://localhost:8080/"
        },
        "id": "ACsdVs6NhDho",
        "outputId": "a7c02b6e-fb36-4d84-ccc6-acfd0f6be27e"
      },
      "source": [
        "import math\r\n",
        "\r\n",
        "#print(math.sqrt(4))\r\n",
        "#print(math.sqrt(5))\r\n",
        "#print(int(math.sqrt(4)))\r\n",
        "a = 2\r\n",
        "b = 3\r\n",
        "c = math.sqrt(a*a + b*b)         #c = sqrt(a=4+  b=9) sqrt=13\r\n",
        "print(c)"
      ],
      "execution_count": null,
      "outputs": [
        {
          "output_type": "stream",
          "text": [
            "3.605551275463989\n"
          ],
          "name": "stdout"
        }
      ]
    },
    {
      "cell_type": "markdown",
      "metadata": {
        "id": "aERnim6Zive0"
      },
      "source": [
        "exp.py"
      ]
    },
    {
      "cell_type": "code",
      "metadata": {
        "colab": {
          "base_uri": "https://localhost:8080/"
        },
        "id": "nD_QK2lzkGvs",
        "outputId": "7c479bed-0444-47f3-f40f-09814f7fc5a7"
      },
      "source": [
        "#4^7\r\n",
        "#print(2**3)\r\n",
        "\r\n",
        "import math\r\n",
        "\r\n",
        "#print(math.exp(1)) #\r\n",
        "print(math.exp(3)) #"
      ],
      "execution_count": null,
      "outputs": [
        {
          "output_type": "stream",
          "text": [
            "20.085536923187668\n"
          ],
          "name": "stdout"
        }
      ]
    },
    {
      "cell_type": "markdown",
      "metadata": {
        "id": "R05GCBc9leGX"
      },
      "source": [
        "*logarithm*"
      ]
    },
    {
      "cell_type": "code",
      "metadata": {
        "colab": {
          "base_uri": "https://localhost:8080/"
        },
        "id": "BMNggrdPlky0",
        "outputId": "eda6d87b-7530-47cf-e3da-3204b1948080"
      },
      "source": [
        "#log \r\n",
        "\r\n",
        "import math\r\n",
        "\r\n",
        "#log(x) ----> base e\r\n",
        "#log2(x) ----> base 2\r\n",
        "#log10(x) ----> base 10\r\n",
        "\r\n",
        "print(math.log(10))"
      ],
      "execution_count": null,
      "outputs": [
        {
          "output_type": "stream",
          "text": [
            "2.302585092994046\n"
          ],
          "name": "stdout"
        }
      ]
    },
    {
      "cell_type": "markdown",
      "metadata": {
        "id": "t1k5zIVkEg-O"
      },
      "source": [
        "*import-2 Date, time *"
      ]
    },
    {
      "cell_type": "code",
      "metadata": {
        "colab": {
          "base_uri": "https://localhost:8080/"
        },
        "id": "rGKWC9D_EnGG",
        "outputId": "be89e80b-c5f7-452c-ca0c-76a7585a70b0"
      },
      "source": [
        "import datetime\r\n",
        "time = datetime.time(10,45,20)          #hour,munite,scound\r\n",
        "print(\"\\nHour: \",time.hour)\r\n",
        "print(\"\\nMinute: \",time.minute)\r\n",
        "print(\"\\nSecond: \",time.second)\r\n",
        "\r\n",
        "\r\n",
        "date = datetime.date(2020,12,14)       #year,month,date\r\n",
        "print(\"\\nYear: \",date.year )\r\n",
        "print(\"\\nMonth: \",date.month )\r\n",
        "print(\"\\nDay: \",date.day )"
      ],
      "execution_count": null,
      "outputs": [
        {
          "output_type": "stream",
          "text": [
            "\n",
            "Hour:  10\n",
            "\n",
            "Minute:  45\n",
            "\n",
            "Second:  20\n",
            "\n",
            "Year:  2020\n",
            "\n",
            "Month:  12\n",
            "\n",
            "Day:  14\n"
          ],
          "name": "stdout"
        }
      ]
    },
    {
      "cell_type": "markdown",
      "metadata": {
        "id": "nZTNvUKfIPu7"
      },
      "source": [
        "***datetime import***"
      ]
    },
    {
      "cell_type": "code",
      "metadata": {
        "colab": {
          "base_uri": "https://localhost:8080/"
        },
        "id": "DxZHMqB-IUB_",
        "outputId": "71c79fd2-3e17-47f4-f7f5-af2941cfdf77"
      },
      "source": [
        "import datetime\r\n",
        "\r\n",
        "time = datetime.datetime.now()\r\n",
        "\r\n",
        "print(\"Hour: \",time.hour)\r\n",
        "print(\"Minute: \",time.minute)\r\n",
        "print(\"Second: \",time.second)\r\n",
        "print(\"Microsecond: \",time.microsecond)  #   10 ^\r\n"
      ],
      "execution_count": null,
      "outputs": [
        {
          "output_type": "stream",
          "text": [
            "Hour:  7\n",
            "Minute:  27\n",
            "Second:  11\n",
            "Microsecond:  97333\n"
          ],
          "name": "stdout"
        }
      ]
    },
    {
      "cell_type": "markdown",
      "metadata": {
        "id": "HltYFmmHNo1G"
      },
      "source": [
        "import date time today\r\n"
      ]
    },
    {
      "cell_type": "code",
      "metadata": {
        "colab": {
          "base_uri": "https://localhost:8080/"
        },
        "id": "yZ4fyFviNwhj",
        "outputId": "f2262cb8-4781-4f65-fbf2-e3bb2d0f4206"
      },
      "source": [
        "from datetime import date\r\n",
        "\r\n",
        "print(date.today())\r\n",
        "#print(datetime.now())"
      ],
      "execution_count": null,
      "outputs": [
        {
          "output_type": "stream",
          "text": [
            "2020-12-14\n"
          ],
          "name": "stdout"
        }
      ]
    },
    {
      "cell_type": "markdown",
      "metadata": {
        "id": "b_yfM7rsOXGM"
      },
      "source": [
        "***TIMe DALTA***"
      ]
    },
    {
      "cell_type": "code",
      "metadata": {
        "colab": {
          "base_uri": "https://localhost:8080/"
        },
        "id": "Ssj5lb5AOg57",
        "outputId": "3f75f9f1-605c-4542-d4fa-c643a78dcdd9"
      },
      "source": [
        "#timedelta\r\n",
        "from datetime import datetime\r\n",
        "\r\n",
        "a = datetime(2020,11,28,10,15,20)\r\n",
        "#a = date(2020,12,28)\r\n",
        "b = datetime(2020,12,12,11,5,5)\r\n",
        "\r\n",
        "\r\n",
        "#print(a-b)\r\n",
        "#print((b-a).days)\r\n",
        "#print((b-a).seconds)\r\n",
        "#print((b-a).time)\r\n",
        "#print((b-a).microseconds)\r\n",
        "print(b-a)"
      ],
      "execution_count": null,
      "outputs": [
        {
          "output_type": "stream",
          "text": [
            "14 days, 0:49:45\n"
          ],
          "name": "stdout"
        }
      ]
    },
    {
      "cell_type": "markdown",
      "metadata": {
        "id": "7x10C31mVc-X"
      },
      "source": [
        "***RECURTION***"
      ]
    },
    {
      "cell_type": "code",
      "metadata": {
        "colab": {
          "base_uri": "https://localhost:8080/"
        },
        "id": "XMVaVWGkVkkN",
        "outputId": "b48dd3eb-65c9-4e24-f477-48c3e2568365"
      },
      "source": [
        "# SQUARE SUM - RECURTION\r\n",
        "# 1 ^2+2^2+3^2+......+N^2\r\n",
        "#1*1+2*2+3*3+4*4......(n-1)\r\n",
        "\r\n",
        "\r\n",
        "\r\n",
        "def sqr_sum(n):\r\n",
        "    if n == 1:\r\n",
        "        return 1\r\n",
        "    else:\r\n",
        "        return n*n + sqr_sum(n-1)\r\n",
        "\r\n",
        "a = int(input())   # 3*3=9 + 2*2=4 + 1*1=1\r\n",
        "b = sqr_sum(a)\r\n",
        "\r\n",
        "print(b)"
      ],
      "execution_count": null,
      "outputs": [
        {
          "output_type": "stream",
          "text": [
            "3\n",
            "14\n"
          ],
          "name": "stdout"
        }
      ]
    },
    {
      "cell_type": "markdown",
      "metadata": {
        "id": "bkqBP9Eohm8K"
      },
      "source": [
        "***Python keyword***"
      ]
    },
    {
      "cell_type": "code",
      "metadata": {
        "colab": {
          "base_uri": "https://localhost:8080/"
        },
        "id": "sTUooE8Ehwsq",
        "outputId": "8a34995d-d4d4-4c39-fed8-e34ff6a98f61"
      },
      "source": [
        "import keyword\r\n",
        "import sys\r\n",
        "print(sys.version_info)\r\n",
        "print(keyword.kwlist)\r\n",
        "print('keyword list: ',len(keyword.kwlist))"
      ],
      "execution_count": null,
      "outputs": [
        {
          "output_type": "stream",
          "text": [
            "sys.version_info(major=3, minor=6, micro=9, releaselevel='final', serial=0)\n",
            "['False', 'None', 'True', 'and', 'as', 'assert', 'break', 'class', 'continue', 'def', 'del', 'elif', 'else', 'except', 'finally', 'for', 'from', 'global', 'if', 'import', 'in', 'is', 'lambda', 'nonlocal', 'not', 'or', 'pass', 'raise', 'return', 'try', 'while', 'with', 'yield']\n",
            "keyword list:  33\n"
          ],
          "name": "stdout"
        }
      ]
    },
    {
      "cell_type": "markdown",
      "metadata": {
        "id": "aSFCHWfDk5UJ"
      },
      "source": [
        "*logical operator*"
      ]
    },
    {
      "cell_type": "code",
      "metadata": {
        "colab": {
          "base_uri": "https://localhost:8080/"
        },
        "id": "A94pnoqMk9CG",
        "outputId": "37f49ce1-863b-4783-b6b3-3affdc32c51e"
      },
      "source": [
        "a = 3<2 and 2<3\r\n",
        "b = 3<4 or 4<3\r\n",
        "c = not 1>2\r\n",
        "print(c)"
      ],
      "execution_count": null,
      "outputs": [
        {
          "output_type": "stream",
          "text": [
            "True\n"
          ],
          "name": "stdout"
        }
      ]
    },
    {
      "cell_type": "markdown",
      "metadata": {
        "id": "NGOOFTcww_GX"
      },
      "source": [
        "*Relation Operator* == , != ,<,>, <=, ,=> Boolean = true / false"
      ]
    },
    {
      "cell_type": "code",
      "metadata": {
        "colab": {
          "base_uri": "https://localhost:8080/"
        },
        "id": "nuf50bSuxEPf",
        "outputId": "2d3072be-898c-44e4-afda-397f9122b296"
      },
      "source": [
        "print(1<2)\r\n",
        "print(1>2)\r\n",
        "print(2!=2)\r\n",
        "print(3>=3)"
      ],
      "execution_count": null,
      "outputs": [
        {
          "output_type": "stream",
          "text": [
            "True\n",
            "False\n",
            "False\n",
            "True\n"
          ],
          "name": "stdout"
        }
      ]
    },
    {
      "cell_type": "markdown",
      "metadata": {
        "id": "ONVt0AXfyNJ1"
      },
      "source": [
        "*reguler expresion*"
      ]
    },
    {
      "cell_type": "code",
      "metadata": {
        "colab": {
          "base_uri": "https://localhost:8080/"
        },
        "id": "lex0PaTWymIP",
        "outputId": "abec580f-bbf9-4d05-ad36-42d05d6dddd4"
      },
      "source": [
        "import re # r = regular and e = expresion\r\n",
        "a = \"My name is musa and i am a student\"\r\n",
        "#re.search(pattern,string,flags<optional>)\r\n",
        "#(.*--*.)\r\n",
        "#.means match any charecter\r\n",
        "#*means zero or more\r\n",
        "#flags <optional>\r\n",
        "#re.I means case insensitive\r\n",
        "\r\n",
        "p = re.search('.*is.*',a,re.I)\r\n",
        "if p:\r\n",
        "    print(\"found\")\r\n",
        "else:\r\n",
        "    print(\"not found\")\r\n",
        "\r\n",
        "\r\n",
        "\r\n",
        "p = re.search('.*iss.*',a,re.I)\r\n",
        "if p:\r\n",
        "    print(\"found\")\r\n",
        "else:\r\n",
        "    print(\"not found\")"
      ],
      "execution_count": null,
      "outputs": [
        {
          "output_type": "stream",
          "text": [
            "found\n",
            "not found\n"
          ],
          "name": "stdout"
        }
      ]
    },
    {
      "cell_type": "markdown",
      "metadata": {
        "id": "yBK-7bM74MIU"
      },
      "source": [
        "Group 1 2"
      ]
    },
    {
      "cell_type": "code",
      "metadata": {
        "colab": {
          "base_uri": "https://localhost:8080/"
        },
        "id": "vXJ3Iewv4O90",
        "outputId": "4bd213b3-aa74-4e50-9bfd-e75714da36ac"
      },
      "source": [
        "import re \r\n",
        "a = \"My name is musa and i am a student\"\r\n",
        "\r\n",
        "p = re.search('(.*)and (.*)',a,re.I)\r\n",
        "if p:\r\n",
        "    print(\"found\")\r\n",
        "    print(p.group())\r\n",
        "    print(p.group(1), \":\" ,p.group(1).capitalize())\r\n",
        "    print(p.group(2), \":\",p.group(2).upper())\r\n",
        "else:\r\n",
        "    print(\"not found\")"
      ],
      "execution_count": null,
      "outputs": [
        {
          "output_type": "stream",
          "text": [
            "found\n",
            "My name is musa and i am a student\n",
            "My name is musa  : My name is musa \n",
            "i am a student : I AM A STUDENT\n"
          ],
          "name": "stdout"
        }
      ]
    },
    {
      "cell_type": "markdown",
      "metadata": {
        "id": "saYPFDzj8vcj"
      },
      "source": [
        "***REGULER MATCH***"
      ]
    },
    {
      "cell_type": "code",
      "metadata": {
        "colab": {
          "base_uri": "https://localhost:8080/"
        },
        "id": "E3119c3583uK",
        "outputId": "a501b38e-028c-4378-fdde-323d3bff25d5"
      },
      "source": [
        "import re\r\n",
        "\r\n",
        "a = 'My name is LutfulBariMusa and i am a student'\r\n",
        "\r\n",
        "#re.match(pattern,string,flags(option))\r\n",
        "\r\n",
        "#p = re.match('.*name.*',a)\r\n",
        "p = re.match('(My.*)(and)(.*student)',a,re.I)\r\n",
        "\r\n",
        "if p:\r\n",
        "    print('Match')\r\n",
        "    print('Group-1: ',p.group(1))\r\n",
        "    print('Group-2: ',p.group(2))\r\n",
        "    print('Group-3: ',p.group(3))\r\n",
        "\r\n",
        "else:\r\n",
        "    print('Not Match')"
      ],
      "execution_count": null,
      "outputs": [
        {
          "output_type": "stream",
          "text": [
            "Match\n",
            "Group-1:  My name is LutfulBariMusa \n",
            "Group-2:  and\n",
            "Group-3:   i am a student\n"
          ],
          "name": "stdout"
        }
      ]
    },
    {
      "cell_type": "markdown",
      "metadata": {
        "id": "THYZogX7xpdu"
      },
      "source": [
        "*Reguler Expresion ---subtitution*"
      ]
    },
    {
      "cell_type": "code",
      "metadata": {
        "colab": {
          "base_uri": "https://localhost:8080/"
        },
        "id": "X5jH_Hebx4ic",
        "outputId": "4781cb2c-4834-4124-e662-ce2d8b7d1232"
      },
      "source": [
        "import re \r\n",
        "\r\n",
        "# re.sub(pattern,replacement,string)\r\n",
        "\r\n",
        "a = \"This is 1234 to 567 haha \"\r\n",
        "\r\n",
        "# \\d mens digit\r\n",
        "# \\D mens nonedigit\r\n",
        "#p = re.sub(\"\\d\",\"\",a)\r\n",
        "#p = re.sub(\"\\d.*\",\"0\",a)\r\n",
        "p = re.sub(\"\\D.*\",\"0\",a)\r\n",
        "print(p)"
      ],
      "execution_count": null,
      "outputs": [
        {
          "output_type": "stream",
          "text": [
            "0\n"
          ],
          "name": "stdout"
        }
      ]
    },
    {
      "cell_type": "markdown",
      "metadata": {
        "id": "Of5TX06U2YzH"
      },
      "source": [
        "reguler expresion --Gmail"
      ]
    },
    {
      "cell_type": "code",
      "metadata": {
        "colab": {
          "base_uri": "https://localhost:8080/"
        },
        "id": "xaBzV2k_2giz",
        "outputId": "4e3dc223-3d33-4c09-95f0-1487fb64741e"
      },
      "source": [
        "#serching gmail\r\n",
        "\r\n",
        "import re \r\n",
        "\r\n",
        "a = \"lutfulbarimusa@gmail.com\"\r\n",
        "# re.search(pattern,string,flags<OPtional>)\r\n",
        "# \\w = word charecter\r\n",
        "p = re.search(\"\\w+@gmail.com\",a)\r\n",
        "\r\n",
        "if p:\r\n",
        "    print(\"Found\")\r\n",
        "else:\r\n",
        "    print(\"Not Found\")\r\n"
      ],
      "execution_count": null,
      "outputs": [
        {
          "output_type": "stream",
          "text": [
            "Found\n"
          ],
          "name": "stdout"
        }
      ]
    },
    {
      "cell_type": "code",
      "metadata": {
        "colab": {
          "base_uri": "https://localhost:8080/"
        },
        "id": "dCVJs_UcPeej",
        "outputId": "e0a6393c-f55e-4d87-cc10-676efa259ee7"
      },
      "source": [
        "#serching gmail\r\n",
        "\r\n",
        "import re \r\n",
        "\r\n",
        "a = \"lutfulbari.29@gmail.com\"\r\n",
        "# re.search(pattern,string,flags<OPtional>)\r\n",
        "# \\w = word charecter\r\n",
        "p = re.search(\"\\w+\\.\\w+@gmail.com\",a)\r\n",
        "\r\n",
        "if p:\r\n",
        "    print(\"Found\")\r\n",
        "else:\r\n",
        "    print(\"Not Found\")\r\n"
      ],
      "execution_count": null,
      "outputs": [
        {
          "output_type": "stream",
          "text": [
            "Found\n"
          ],
          "name": "stdout"
        }
      ]
    },
    {
      "cell_type": "code",
      "metadata": {
        "colab": {
          "base_uri": "https://localhost:8080/"
        },
        "id": "Ru_PNti4QVzo",
        "outputId": "5490f878-7367-4137-8abd-ceda0652d63f"
      },
      "source": [
        "#serching andy mail petern\r\n",
        "\r\n",
        "import re \r\n",
        "\r\n",
        "a = \"lutfulbarimusa@hotmail.com\"\r\n",
        "# re.search(pattern,string,flags<OPtional>)\r\n",
        "# \\w = word charecter\r\n",
        "# universel universelemil serching\r\n",
        "\r\n",
        "p = re.search(\"\\w+\\.*\\w+@\\w+\\.\\w+\",a)\r\n",
        "\r\n",
        "if p:\r\n",
        "    print(\"Found\")\r\n",
        "else:\r\n",
        "    print(\"Not Found\")\r\n"
      ],
      "execution_count": null,
      "outputs": [
        {
          "output_type": "stream",
          "text": [
            "Found\n"
          ],
          "name": "stdout"
        }
      ]
    },
    {
      "cell_type": "markdown",
      "metadata": {
        "id": "UmlAp6U0TARr"
      },
      "source": [
        "***Reguler Expresion Subtitutde***"
      ]
    },
    {
      "cell_type": "code",
      "metadata": {
        "colab": {
          "base_uri": "https://localhost:8080/"
        },
        "id": "AN32gspzTKnp",
        "outputId": "e247a363-c417-4eef-f41a-6393fa9a9a9a"
      },
      "source": [
        "import re \r\n",
        "\r\n",
        "a = 'This is a number 01552464940'\r\n",
        "\r\n",
        "#re.sub(pattern,replacement,string)\r\n",
        "\r\n",
        "#p = re.sub('\\w+','&',a)\r\n",
        "#p = re.sub('\\w+s','&',a)\r\n",
        "#p = re.sub('\\d','&',a)\r\n",
        "#p = re.sub('\\D','&',a)\r\n",
        "p = re.sub('\\D','lutful',a)\r\n",
        "\r\n",
        "\r\n",
        "print(p)"
      ],
      "execution_count": null,
      "outputs": [
        {
          "output_type": "stream",
          "text": [
            "lutfullutfullutfullutfullutfullutfullutfullutfullutfullutfullutfullutfullutfullutfullutfullutfullutful01552464940\n"
          ],
          "name": "stdout"
        }
      ]
    },
    {
      "cell_type": "markdown",
      "metadata": {
        "id": "pxyaPFBo-XE3"
      },
      "source": [
        "***Reguler expresion Svariable*** "
      ]
    },
    {
      "cell_type": "code",
      "metadata": {
        "colab": {
          "base_uri": "https://localhost:8080/"
        },
        "id": "oSh0bzDo-iiO",
        "outputId": "b947ee08-625e-4b4b-8f3f-853bcf454654"
      },
      "source": [
        "a = 10 \r\n",
        "b = 'hello'\r\n",
        "\r\n",
        "c,d= 30,'world'\r\n",
        "e,f,g,h = 1,2,3,'haaaaaa'\r\n",
        "\r\n",
        "print(a,b,c,d,e,f,g,h)"
      ],
      "execution_count": null,
      "outputs": [
        {
          "output_type": "stream",
          "text": [
            "10 hello 30 world 1 2 3 haaaaaa\n"
          ],
          "name": "stdout"
        }
      ]
    },
    {
      "cell_type": "markdown",
      "metadata": {
        "id": "auzY-DUC_wIW"
      },
      "source": [
        "# ***tuple data structure***"
      ]
    },
    {
      "cell_type": "code",
      "metadata": {
        "colab": {
          "base_uri": "https://localhost:8080/"
        },
        "id": "dHiRw6hj_6JE",
        "outputId": "de728162-0f45-43ff-ad13-6b155ad9c560"
      },
      "source": [
        "a = (1,2,'apple','banana')\r\n",
        "\r\n",
        "#print(len(a))\r\n",
        "#print(a[2])\r\n",
        "#print(a[0:3])\r\n",
        "print(a[1:4])"
      ],
      "execution_count": null,
      "outputs": [
        {
          "output_type": "stream",
          "text": [
            "(2, 'apple', 'banana')\n"
          ],
          "name": "stdout"
        }
      ]
    },
    {
      "cell_type": "markdown",
      "metadata": {
        "id": "IowFh3snBPT8"
      },
      "source": [
        "# ***# List and tuple*** Tuple data changessssssss to list"
      ]
    },
    {
      "cell_type": "code",
      "metadata": {
        "colab": {
          "base_uri": "https://localhost:8080/"
        },
        "id": "oAqxcDS-BZZw",
        "outputId": "6b8d2f64-d58e-4874-ef2e-017083c5008b"
      },
      "source": [
        "a = [1,2,3,4]  #list\r\n",
        "b = (4,5,6,7,8) # tuple\r\n",
        "\r\n",
        "a.append(10)\r\n",
        "#b.append(10)\r\n",
        "c = tuple(a)\r\n",
        "#c.append(12)\r\n",
        "d = list(b)\r\n",
        "d.append(12)\r\n",
        "\r\n",
        "b = tuple(d)\r\n",
        "\r\n",
        "print(a)\r\n",
        "print(b)\r\n",
        "print(c)"
      ],
      "execution_count": null,
      "outputs": [
        {
          "output_type": "stream",
          "text": [
            "[1, 2, 3, 4, 10]\n",
            "(4, 5, 6, 7, 8, 12)\n",
            "(1, 2, 3, 4, 10)\n"
          ],
          "name": "stdout"
        }
      ]
    },
    {
      "cell_type": "markdown",
      "metadata": {
        "id": "6xQY1GD9DFR9"
      },
      "source": [
        "# Tuple  Matching max"
      ]
    },
    {
      "cell_type": "code",
      "metadata": {
        "colab": {
          "base_uri": "https://localhost:8080/"
        },
        "id": "7Zbn7VpODJVG",
        "outputId": "d0f48416-869f-4186-9f7b-d641d3cc09f7"
      },
      "source": [
        "a = [1,2,3,4,5]  #list\r\n",
        "b = (4,5,6,7,8,9) # tuple\r\n",
        "\r\n",
        "print('a = ',max(a),'!',\"b = \",max(b))\r\n",
        "print('a = ',min(a),'!',\"b = \",min(b))\r\n",
        "print('a = ',len(a),'!',\"b = \",len(b))\r\n",
        "print('a = ',a.index(4),'!',\"b = \",b.index(7))\r\n",
        "print('a = ',a.count(3),'!',\"b = \",b.count(7))\r\n"
      ],
      "execution_count": null,
      "outputs": [
        {
          "output_type": "stream",
          "text": [
            "a =  5 ! b =  9\n",
            "a =  1 ! b =  4\n",
            "a =  5 ! b =  6\n",
            "a =  3 ! b =  3\n",
            "a =  1 ! b =  1\n"
          ],
          "name": "stdout"
        }
      ]
    },
    {
      "cell_type": "markdown",
      "metadata": {
        "id": "7VZJ5UhqFnHK"
      },
      "source": [
        "# String"
      ]
    },
    {
      "cell_type": "code",
      "metadata": {
        "colab": {
          "base_uri": "https://localhost:8080/"
        },
        "id": "Ous3KLHoFtT3",
        "outputId": "a9dd27fe-ab74-4673-fa68-170c0c307f1e"
      },
      "source": [
        "a = \"i love lutfulbari\"\r\n",
        "#print(a.reverse())\r\n",
        "\r\n",
        "print(a[::-1])    #index searching\r\n"
      ],
      "execution_count": null,
      "outputs": [
        {
          "output_type": "stream",
          "text": [
            "irabluftul evol i\n"
          ],
          "name": "stdout"
        }
      ]
    },
    {
      "cell_type": "markdown",
      "metadata": {
        "id": "G75zg3nyUc_B"
      },
      "source": [
        "# String word Reverse"
      ]
    },
    {
      "cell_type": "code",
      "metadata": {
        "colab": {
          "base_uri": "https://localhost:8080/"
        },
        "id": "I2iaNlgbUji6",
        "outputId": "f07752b5-0879-4d74-f43f-e1ffbc610d8a"
      },
      "source": [
        "a = ' i love  singapore' #space\r\n",
        " \r\n",
        "b = a.split(' ') # list white/space/tab/newline\r\n",
        "\r\n",
        "c = b[::-1]\r\n",
        "\r\n",
        "d = '#'.join(c)\r\n",
        "\r\n",
        "print(' '.join(a.split()[::-1])) #one step\r\n",
        "\r\n",
        "#prin t( c)\r\n",
        "#print(d)\r\n",
        "#print(b)"
      ],
      "execution_count": null,
      "outputs": [
        {
          "output_type": "stream",
          "text": [
            "singapore love i\n"
          ],
          "name": "stdout"
        }
      ]
    },
    {
      "cell_type": "markdown",
      "metadata": {
        "id": "pYHs0c_BbvN4"
      },
      "source": [
        "# Data structure  ( set )"
      ]
    },
    {
      "cell_type": "code",
      "metadata": {
        "colab": {
          "base_uri": "https://localhost:8080/"
        },
        "id": "fWc4F_BWbz6j",
        "outputId": "af7ad3b6-ab62-469b-c31a-bfc9b29302f0"
      },
      "source": [
        "#set is a sequence of unice element\r\n",
        "\r\n",
        "a = { 1,2,3,4,5,6,7,8,9,10}\r\n",
        "\r\n",
        "b = {\"lutful\",\"bari\",\"musa\"}\r\n",
        "\r\n",
        "c = {4,5,6,7,8,22,11,45,3,2,1}\r\n",
        "\r\n",
        "d = set(c)\r\n",
        "\r\n",
        "print(tuple(d))\r\n",
        "print(a)\r\n",
        "\r\n",
        "print(b)\r\n",
        "\r\n",
        "print(set(c))"
      ],
      "execution_count": null,
      "outputs": [
        {
          "output_type": "stream",
          "text": [
            "(1, 2, 3, 4, 5, 6, 7, 8, 11, 45, 22)\n",
            "{1, 2, 3, 4, 5, 6, 7, 8, 9, 10}\n",
            "{'bari', 'lutful', 'musa'}\n",
            "{1, 2, 3, 4, 5, 6, 7, 8, 11, 45, 22}\n"
          ],
          "name": "stdout"
        }
      ]
    },
    {
      "cell_type": "markdown",
      "metadata": {
        "id": "sbtg2xWIeFrf"
      },
      "source": [
        "# Set subset and superset"
      ]
    },
    {
      "cell_type": "code",
      "metadata": {
        "colab": {
          "base_uri": "https://localhost:8080/"
        },
        "id": "4lJ1Y-rpeOT-",
        "outputId": "c8205697-4133-4d06-f701-3ec2203667b9"
      },
      "source": [
        "set1 = { 1,2,3,4,5,6,7,8,9,10}\r\n",
        "set2 = {6,7,8,9,10}\r\n",
        "# > = superset\r\n",
        "# < = suberset\r\n",
        "\r\n",
        "#print(set1 > set2)\r\n",
        "#print(set2 < set1)\r\n",
        "print(set1.issubset(set2))\r\n",
        "print(set1.issuperset(set2))"
      ],
      "execution_count": null,
      "outputs": [
        {
          "output_type": "stream",
          "text": [
            "False\n",
            "True\n"
          ],
          "name": "stdout"
        }
      ]
    },
    {
      "cell_type": "markdown",
      "metadata": {
        "id": "D-R9_XTIiQpY"
      },
      "source": [
        "# SET difference"
      ]
    },
    {
      "cell_type": "code",
      "metadata": {
        "colab": {
          "base_uri": "https://localhost:8080/"
        },
        "id": "ZJa6IneQiWFu",
        "outputId": "b3ffe978-7e24-4496-d966-c544ba2a011f"
      },
      "source": [
        "set1 = {1,3,4,7,8,9,10}\r\n",
        "set2 = {2,4,7,8,9,10}\r\n",
        "\r\n",
        "#print(set1 - set2)\r\n",
        "#print(set2 - set1)\r\n",
        "\r\n",
        "\r\n",
        "print(set1.difference(set2))\r\n",
        "print(set2.difference(set1))\r\n"
      ],
      "execution_count": null,
      "outputs": [
        {
          "output_type": "stream",
          "text": [
            "{1, 3}\n",
            "{2}\n"
          ],
          "name": "stdout"
        }
      ]
    },
    {
      "cell_type": "markdown",
      "metadata": {
        "id": "onAxv52sjfg2"
      },
      "source": [
        "# Enumerate"
      ]
    },
    {
      "cell_type": "code",
      "metadata": {
        "colab": {
          "base_uri": "https://localhost:8080/"
        },
        "id": "exChKwUyjnej",
        "outputId": "eb1edf85-03a8-4d3e-92ea-badb5a2b84c7"
      },
      "source": [
        "a = [1,2,3,4,5,6,7,8,9,10]\r\n",
        "\r\n",
        "for i,j in enumerate(a):\r\n",
        "\r\n",
        "  print(\"index: \",i,\"value: \",j,a[i] == j)\r\n",
        "\r\n",
        "#print(a[3] == 4)"
      ],
      "execution_count": null,
      "outputs": [
        {
          "output_type": "stream",
          "text": [
            "index:  0 value:  1 True\n",
            "index:  1 value:  2 True\n",
            "index:  2 value:  3 True\n",
            "index:  3 value:  4 True\n",
            "index:  4 value:  5 True\n",
            "index:  5 value:  6 True\n",
            "index:  6 value:  7 True\n",
            "index:  7 value:  8 True\n",
            "index:  8 value:  9 True\n",
            "index:  9 value:  10 True\n"
          ],
          "name": "stdout"
        }
      ]
    },
    {
      "cell_type": "markdown",
      "metadata": {
        "id": "sKZHM_TjlcTr"
      },
      "source": [
        "# ***LIst tupel comprehension ***"
      ]
    },
    {
      "cell_type": "code",
      "metadata": {
        "colab": {
          "base_uri": "https://localhost:8080/"
        },
        "id": "gyaR9y4Vlu5m",
        "outputId": "612e3e88-abab-4f61-8dad-f17cafc1bcca"
      },
      "source": [
        "# a = {X\\x E N and 1<=x<5}\r\n",
        "#a = [x for x in range(1,6)]\r\n",
        "#a = [x for x in range(1,5001)]\r\n",
        "#a = [x for x in range(1,50)]\r\n",
        "a = {x for x in range(1,50)}\r\n",
        "print(a)"
      ],
      "execution_count": null,
      "outputs": [
        {
          "output_type": "stream",
          "text": [
            "{1, 2, 3, 4, 5, 6, 7, 8, 9, 10, 11, 12, 13, 14, 15, 16, 17, 18, 19, 20, 21, 22, 23, 24, 25, 26, 27, 28, 29, 30, 31, 32, 33, 34, 35, 36, 37, 38, 39, 40, 41, 42, 43, 44, 45, 46, 47, 48, 49}\n"
          ],
          "name": "stdout"
        }
      ]
    },
    {
      "cell_type": "markdown",
      "metadata": {
        "id": "qyzoMEgpufvd"
      },
      "source": [
        "# Comprehension and Condition "
      ]
    },
    {
      "cell_type": "code",
      "metadata": {
        "colab": {
          "base_uri": "https://localhost:8080/"
        },
        "id": "QbMVGpNYukom",
        "outputId": "b700d85d-cc8c-4c1e-a304-a23930b338de"
      },
      "source": [
        "#a = {x| x E N and x is even number and 1<=x<10}\r\n",
        "\r\n",
        "#a = [x**2 for x in range(1,11)if x%2 ==0]\r\n",
        "a = [x**2+x for x in range(1,11)if x%2 == 0]\r\n",
        "\r\n",
        "# expresion,reange/enumerate, = f(x) =x^2 ,condition\r\n",
        "\r\n",
        "print(a)\r\n"
      ],
      "execution_count": null,
      "outputs": [
        {
          "output_type": "stream",
          "text": [
            "[6, 20, 42, 72, 110]\n"
          ],
          "name": "stdout"
        }
      ]
    },
    {
      "cell_type": "markdown",
      "metadata": {
        "id": "ZKWUR-guFHV7"
      },
      "source": [
        "# Dictionary and comrehension"
      ]
    },
    {
      "cell_type": "code",
      "metadata": {
        "colab": {
          "base_uri": "https://localhost:8080/"
        },
        "id": "TvAZ1UwpE_cZ",
        "outputId": "55a07453-9d17-4655-96b6-26f5ee0f5074"
      },
      "source": [
        "#a = {1:1,2:4,3:9,4:16,5:25.....}\r\n",
        "#a = {x:x**2 for x in range(1,6)}\r\n",
        "#a = {x:x**2 for x in range(1,6)}\r\n",
        "#a = {x:x**2 for x in range(1,100)}\r\n",
        "#a = {x:x**2 for x in range(1,100)if x%2 ==0}\r\n",
        "a = {x**2:x for x in range(1,10)}\r\n",
        "\r\n",
        "print(a)"
      ],
      "execution_count": 122,
      "outputs": [
        {
          "output_type": "stream",
          "text": [
            "{1: 1, 4: 2, 9: 3, 16: 4, 25: 5, 36: 6, 49: 7, 64: 8, 81: 9}\n"
          ],
          "name": "stdout"
        }
      ]
    }
  ]
}